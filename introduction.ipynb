{
 "cells": [
  {
   "cell_type": "markdown",
   "metadata": {},
   "source": [
    "# 과정 소개\n",
    "---\n",
    "<img src=\"obama.jpg\" /><br>\n",
    "<p style=\"text-align: center\">(출처: https://www.washington.edu/news/2017/07/11/lip-syncing-obama-new-tools-turn-audio-clips-into-realistic-video/)</p>"
   ]
  },
  {
   "cell_type": "markdown",
   "metadata": {},
   "source": [
    "## 강의명 : 파이썬 기반 빅데이터 분석 실무자 양성과정\n",
    "- 기간 : 2018.10.29 ~ 2018.12.21 (40일)\n",
    "- 시간 : 160시간 (주5일, 1일 4시간, 오후 2시~6시)\n",
    "- 장소 : 서울코딩학원"
   ]
  },
  {
   "cell_type": "markdown",
   "metadata": {},
   "source": [
    "## 강사 소개\n",
    "- 김현호 (010-2737-6532, gubos@naver.com)\n",
    "- 물리학 석사\n",
    "- KT 연구소 근무 (1997년 ~ 2014년) : 로봇, 인공지능, 단말서비스, 무선랜서비스, 물류, EDI\n",
    "- 경기도, 성남시 강의 (2015년 ~ 2018년) : 파이썬, 머신러닝, 자바, DB/SQL\n",
    "- 대학교 연구실 근무 (2017년 ~ 2018년) : 파이썬과 머신러닝을 활용한 데이터 분석\n",
    "- 개발 기술 : C/C++, 자바, 파이썬, 스칼라, DB/SQL 등"
   ]
  },
  {
   "cell_type": "markdown",
   "metadata": {},
   "source": [
    "## 강의 계획표\n",
    "<img src=\"time_table.jpg\" /><br>"
   ]
  },
  {
   "cell_type": "markdown",
   "metadata": {},
   "source": [
    "## 세부 강의일정\n",
    "```\n",
    "☆ 1주차   : 파이썬 소개 및 기본 문법\n",
    "☆ 2~3주차 : 파이썬 Numpy, Pandas, Matplotlib\n",
    "☆ 4주차   : 머신러닝 기술 및 scikit-learn 활용방법\n",
    "☆ 5~6주차 : 지도학습 방법\n",
    "☆ 7주차   : 비지도학습 및 통계 분석\n",
    "☆ 8주차   : 텍스트마이닝, 신경망/딥러닝 개념, 사례분석 및 프로젝트 수행\n",
    "```\n",
    ">(※ 강의 일정과 내용은 변경될 수 있습니다.)"
   ]
  },
  {
   "cell_type": "markdown",
   "metadata": {},
   "source": [
    "## 교재\n",
    "- 파이썬 라이브러리를 활용한 데이터 분석 (수정보완판, 2013년)<br>\n",
    "<img src=\"book1.jpg\" /> <p style=\"text-align: center\">(출처: 알라딘)</p>\n",
    "- 파이썬 라이브러리를 활용한 머신러닝 (2017년)<br>\n",
    "<img src=\"book2.jpg\" /> <p style=\"text-align: center\">(출처: 알라딘)</p>\n",
    "- 점프 투 파이썬 (온라인 문서, https://wikidocs.net/book/1)"
   ]
  },
  {
   "cell_type": "markdown",
   "metadata": {},
   "source": [
    "## 수강생 소개\n",
    "- 이름\n",
    "- 경력\n",
    "- 수강 목표\n",
    "- 개발 능력\n",
    "- 바라는 점"
   ]
  },
  {
   "cell_type": "markdown",
   "metadata": {},
   "source": [
    "## 강의 방식 협의\n",
    "- 커뮤니티 : 이메일, 카톡, github, 윈도우공유 등\n",
    "- 교육 환경\n",
    "- 수강 체크\n",
    "- 등등"
   ]
  },
  {
   "cell_type": "markdown",
   "metadata": {},
   "source": [
    "---\n",
    "<img src=\"steinberg.jpg\" />\n",
    "<p style=\"text-align: center\">(Saul Steinberg - The New Yorker)</p>"
   ]
  }
 ],
 "metadata": {
  "kernelspec": {
   "display_name": "Python 3",
   "language": "python",
   "name": "python3"
  },
  "language_info": {
   "codemirror_mode": {
    "name": "ipython",
    "version": 3
   },
   "file_extension": ".py",
   "mimetype": "text/x-python",
   "name": "python",
   "nbconvert_exporter": "python",
   "pygments_lexer": "ipython3",
   "version": "3.5.2"
  }
 },
 "nbformat": 4,
 "nbformat_minor": 0
}
