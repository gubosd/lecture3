{
 "cells": [
  {
   "cell_type": "markdown",
   "metadata": {},
   "source": [
    "## 파이썬 기본\n",
    "---\n",
    "# 파이썬 소개"
   ]
  },
  {
   "cell_type": "markdown",
   "metadata": {},
   "source": [
    "### 왜 파이썬인가?\n",
    "<img src=\"python_01.jpg\" />\n",
    "<p style=\"text-align: center\">IEEE, The 2018 Top Programming Languages<br>(https://spectrum.ieee.org/at-work/innovation/the-2018-top-programming-languages)</p>\n",
    "<br>\n",
    "\n",
    "- IEEE 에서 조사한 바로는, 2017년에 이어 2년째 파이썬이 가장 인기있는 언어로 조사되었습니다.\n",
    "- 커뮤니티, 구직, 인기 등 모든 분야에서 파이썬이 자바와 C 를 앞선 것입니다.\n",
    "- 파이썬을 써야 하는 가장 큰 이유는 **가장 많은 개발자**들이 사용하고 있고, **커뮤니티가 활성화**되어 있어 수많은 유용한 정보를 쉽게 얻을 수 있고 **가장 최신 기술을 적용**할 수 있기 때문입니다.\n",
    ">- 유용한 커뮤니티는 **github**, **stackoverflow** 등이 해당합니다.\n",
    ">- 가장 최신 기술로는 tensorflow, pySpark, sklearn, numpy, pandas, matplotlib 등이 해당합니다."
   ]
  },
  {
   "cell_type": "markdown",
   "metadata": {},
   "source": [
    "### 파이썬 사용 경험\n",
    "- 파이썬은 가장 쉽게 배울 수 있는 언어입니다. 그만큼 진입 장벽이 낮습니다.\n",
    "- 파이썬은 설치와 실행이 아주 용이합니다. 바로 바로 소스를 만들어 테스트해 볼 수 있습니다.\n",
    "- 파이선은 자유롭습니다. 자바와 C 에 비해 복잡한 규칙에 얽매이지 않습니다.\n",
    "- 파이썬은 재미있습니다. 사용하기 간단하며 원하는 기능을 쉽게 찾아 쓸 수 있습니다.\n",
    "- 커뮤니티가 활성화 되어 있고 메뉴얼/도움말이 잘 구비되어 있어 막힘 없이 쓸 수 있습니다.\n",
    "- 빨리 결과 보고를 할 수 있고, 보기 좋게 결과 리포트를 작성 할 수 있습니다.\n",
    "- 그러면서도, 자바와 C 가 할 수 있는 일을 파이썬에서 모두 할 수 있습니다. 속도도 견딜만 합니다."
   ]
  },
  {
   "cell_type": "markdown",
   "metadata": {},
   "source": [
    "### 파이썬의 특징\n",
    "- 불필요하고 복잡한 문법과 절차는 생략되어 있습니다.\n",
    "- 테스트 주도 프로그래밍에 아주 적합합니다. (Trial & Error, XP)\n",
    ">- 코딩 > 테스트 > 코딩 > 테스트 > 코딩 > 테스트 > ... > 프로토타입\n",
    ">- 빠른 시제품 개발 (프로토타입) 우선\n",
    ">- 알고리즘 중심\n",
    "\n",
    "- 기존 언어의 장점을 현재로서는 가장 적절히 결합한 언어입니다.\n",
    ">- 자바, C/C++ => 프로그래밍 언어 체계, 확장성\n",
    ">- Matlab, R => 수치계산 라이브러리, 통계 분석, 시각화\n",
    "\n",
    "- 최신 기술이 가장 빨리 적용되는 언어입니다. => tensorflow, pySpark 등"
   ]
  },
  {
   "cell_type": "markdown",
   "metadata": {},
   "source": [
    "### 파이썬의 한계\n",
    "- 파이썬은 프로토타입 우선의 개발 언어입니다. 그래서 상용화 제품으로 만들기에는 뚜렷한 한계가 있습니다.\n",
    "- 자바와 C 에 비교하여 속도가 느립니다. 파이썬은 C 언어에 기반하여 만들어졌습니다.\n",
    "- 상용 패키징이 어렵습니다. 파이썬으로 개발한 프로그램은 기본적으로 모든 소스가 공개됩니다.\n",
    "- 아주 전문적인 기능을 개발할 때, 오히려 자바나 C 보다 개발이 불편하고 어려울 수 있습니다."
   ]
  },
  {
   "cell_type": "markdown",
   "metadata": {},
   "source": [
    "## 관련 사이트\n",
    "- https://www.python.org/\n",
    "- http://www.google.com\n",
    "- http://en.wikipedia.org\n",
    "- https://stackoverflow.com/\n",
    "- https://wikidocs.net/book/1 (점프 투 파이썬)"
   ]
  },
  {
   "cell_type": "code",
   "execution_count": null,
   "metadata": {
    "collapsed": false
   },
   "outputs": [],
   "source": []
  }
 ],
 "metadata": {
  "kernelspec": {
   "display_name": "Python 3",
   "language": "python",
   "name": "python3"
  },
  "language_info": {
   "codemirror_mode": {
    "name": "ipython",
    "version": 3
   },
   "file_extension": ".py",
   "mimetype": "text/x-python",
   "name": "python",
   "nbconvert_exporter": "python",
   "pygments_lexer": "ipython3",
   "version": "3.5.2"
  }
 },
 "nbformat": 4,
 "nbformat_minor": 0
}
