{
 "cells": [
  {
   "cell_type": "markdown",
   "metadata": {},
   "source": [
    "### Introduction to Machine Learning with Python\n",
    "## Chapter 1. 소개\n",
    "---\n",
    "# 머신러닝과 파이썬"
   ]
  },
  {
   "cell_type": "markdown",
   "metadata": {},
   "source": [
    "### 왜 머신러닝을 배우는 데 파이썬을 사용하는가?\n",
    "1. 한마디로 표현하면, 파이썬이 편리하고 확장성이 크기 때문이다.\n",
    "    - 자바와 C에도 훌륭한 머신러닝 라이브러리가 많고 속도도 빠르지만, 배우거나 사용하기에는 여간 까다롭지 않다.\n",
    "    - 기존에 데이터 분석가들이 매트랩이나 R을 많이 사용하였지만, 프로그래밍 언어로서의 일반성이나 확장성 측면에서 한계를 보이고 있다.\n",
    "2. 또한 가장 많은 개발자가 파이썬으로 머신러닝을 배우고 연구와 개발에 적용하고 있기 때문이다.\n",
    "    - 최신 기술이 적용된 파이썬 머신러닝 라이브러리가 제공되고 있다.\n",
    "    - 개발자들 간의 커뮤니티가 활성화 되어 정보를 얻고 새로운 기술을 적용하기가 용이하다.\n",
    "3. 그리고 scikit-learn, tensorflow 등의 훌륭한 머신러닝 라이브러리가 있기 때문이다.\n",
    "    - 기존의 머신러닝 툴이 파이썬이 아니더라도 최소한 파이썬 인터페이스를 제공하고 있다.\n",
    "4. Numpy, Pandas, Matplotlib 등의 다양한 파이썬 툴들과 연동하여 편리하게 머신러닝 기능을 개발할 수 있다."
   ]
  },
  {
   "cell_type": "markdown",
   "metadata": {},
   "source": [
    "### Scikit-learn 이란?\n",
    "- scikit-learn 은 파이썬의 대표적인 머신러닝 라이브러리이다. (신경망과 딥러닝은 주로 tensorflow 를 사용하자)\n",
    "- scikit-learn 홈페이지에는 라이브러리 사용법 뿐만 아니라 일반적인 머신러닝 이론에 대해서도 상세한 문서를 제공하고 있다.\n",
    "- http://www.scikit-learn.org\n",
    "- 머신러닝에 적용하기에 편리한 여러가지 데이터셋을 포함하고 있어 학습에 용이하다."
   ]
  },
  {
   "cell_type": "markdown",
   "metadata": {},
   "source": [
    "### Scikit-learn 설치\n",
    "- python 만 설치한 경우, \"pip install scikit-learn\" 명령으로 손쉽게 설치할 수 있다.\n",
    "- anaconda 를 설치한 경우, scikit-learn 은 이미 포함되어 있다."
   ]
  },
  {
   "cell_type": "markdown",
   "metadata": {},
   "source": [
    "### 교재의 예제 실행을 위한 mglearn 설치\n",
    "- mglearn 은 저자가 교재에서 코드를 간략하게 표현하기 위해 제작한 이 교재 전용의 라이브러리이다.\n",
    "- 랜덤한 데이터셋을 생성하거나 머신러닝 적용 결과를 보기좋게 표현하기 위한 함수들이 대부분이다.\n",
    "- \"pip install mglearn\" 으로 설치할 수 있다."
   ]
  },
  {
   "cell_type": "markdown",
   "metadata": {},
   "source": [
    "### Jupyter Notebook 사용 방법\n",
    "- jupyter notebook 은 웹브라우저에서 파이썬을 실행할 수 있는 툴이다.\n",
    "- 내 컴퓨터에 파이썬 전용 웹서버가 실행된다. (인터넷에 접속되어 있지 않아도 사용할 수 있다.)\n",
    "- 실행 : 명령창에서 작업 디렉토리로 이동 후 \"jupyter notebook\" 실행한다.\n",
    "- 접속 : 웹브라우저를 띄운 후 \"http://localhost:8888\" 로 접속한다.\n",
    ">참고 : jupyter notebook 에서 처음 부분에 \"%pylab inline\" 이란 문장을 적용할 것이다. 이것은 그래프를 그렸을 때 별도 창이 아니라 브러우저 안에 그래프를 표시하고 display() 란 함수를 사용하기 위함이다. (또한 plt.show() 를 호출하지 않아도 그래프가 결과창에 표시된다.)"
   ]
  },
  {
   "cell_type": "code",
   "execution_count": 4,
   "metadata": {},
   "outputs": [
    {
     "name": "stdout",
     "output_type": "stream",
     "text": [
      "Populating the interactive namespace from numpy and matplotlib\n"
     ]
    },
    {
     "data": {
      "text/plain": [
       "[1, 2, 3]"
      ]
     },
     "metadata": {},
     "output_type": "display_data"
    },
    {
     "data": {
      "text/plain": [
       "'Python'"
      ]
     },
     "metadata": {},
     "output_type": "display_data"
    },
    {
     "data": {
      "text/plain": [
       "99"
      ]
     },
     "metadata": {},
     "output_type": "display_data"
    },
    {
     "data": {
      "text/plain": [
       "[<matplotlib.lines.Line2D at 0xc059f30>]"
      ]
     },
     "execution_count": 4,
     "metadata": {},
     "output_type": "execute_result"
    },
    {
     "data": {
      "image/png": "[encoded data removed]",
      "text/plain": [
       "<matplotlib.figure.Figure at 0xb005330>"
      ]
     },
     "metadata": {},
     "output_type": "display_data"
    }
   ],
   "source": [
    "%pylab inline\n",
    "import matplotlib.pyplot as plt\n",
    "\n",
    "display([1,2,3],\"Python\",99)\n",
    "plt.plot([1,2,3])"
   ]
  }
 ],
 "metadata": {
  "kernelspec": {
   "display_name": "Python 3",
   "language": "python",
   "name": "python3"
  },
  "language_info": {
   "codemirror_mode": {
    "name": "ipython",
    "version": 3
   },
   "file_extension": ".py",
   "mimetype": "text/x-python",
   "name": "python",
   "nbconvert_exporter": "python",
   "pygments_lexer": "ipython3",
   "version": "3.6.5"
  }
 },
 "nbformat": 4,
 "nbformat_minor": 1
}
