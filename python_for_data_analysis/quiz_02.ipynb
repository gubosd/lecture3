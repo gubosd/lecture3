{
 "cells": [
  {
   "cell_type": "markdown",
   "metadata": {},
   "source": [
    "# Quiz 2 : Numpy 기초"
   ]
  },
  {
   "cell_type": "markdown",
   "metadata": {},
   "source": [
    "## 퀴즈 2.1\n",
    "- [0, 0.1, 0.2, ... , 9.8, 9.9] 인 어레이를 만들어라. (속성의 갯수는 100개)\n",
    "- reshape 함수를 사용하여 10X10 행렬로 만들어라."
   ]
  },
  {
   "cell_type": "markdown",
   "metadata": {},
   "source": [
    "## 퀴즈 2.2\n",
    "- A/B/O 혈액형인 사람들의 비율이 1:2:2 인 확률로 100개의 샘플을 만들려고 한다.\n",
    "- A/B/O 각각의 값은 0/1/2 이다. => [1 0 2 2 0 1 1 ... ]\n",
    "- **힌트** : np.random 모듈의 uniform 이나 choice 함수를 사용하자"
   ]
  },
  {
   "cell_type": "markdown",
   "metadata": {},
   "source": [
    "## 퀴즈 2.3\n",
    "- randn() 함수로 100개의 샘플을 구한 다음, 평균과 표준편차를 구하라.\n",
    "- 단, np.sum() 함수만을 사용하라. (mean 과 std 함수를 사용하지 않고 직접 기능을 구현한다.)"
   ]
  },
  {
   "cell_type": "markdown",
   "metadata": {},
   "source": [
    "## 퀴즈 2.4\n",
    "- 토끼반(0), 여우반(1), 너구리반(2) 3개의 학급에 각각 10명씩 학생들이 있다.\n",
    "- 학생들의 키와 몸무게 데이터를 만들려고 한다. 키는 평균 170, 표준편차 10이고, 몸무게는 평균 60, 표준편차 10이다.\n",
    "- 키와 몸무게로 30X2 인 행렬(X) 를 만들고, 키와 몸무게 각각의 평균과 표준편차를 구하라.\n",
    "- 별도로 학생들이 속한 반을 나타내는 (30,) 형태의 어레이 y 를 만든다. (shuffle 이나 permutaition 을 사용하여 되도록이면 각 반이 섞이게 구해보자)\n",
    "- 각 반의 키와 몸무게 평균과 표준편차를 구해보자."
   ]
  },
  {
   "cell_type": "markdown",
   "metadata": {},
   "source": [
    "## [도전 과제]\n",
    "- 0~1 사이의 랜덤한 실수값을 100개 얻을려고 한다.\n",
    "- 그런데 값이 두배이면 뽑힐 확률도 두배가 되어야 한다. (0.1 보다 0.2 는 2배 더 높은 뽑힐 확률을 갖는다.)\n",
    "- **힌트** : 확률밀도함수가 y=2x 인 경우이다. 그래프로 그리면 0~x 까지의 면적이 0~x 까지 뽑힐 확률이 된다.<br>\n",
    "이 경우 $p(x) = x^2$ 이 된다."
   ]
  }
 ],
 "metadata": {
  "kernelspec": {
   "display_name": "Python 3",
   "language": "python",
   "name": "python3"
  },
  "language_info": {
   "codemirror_mode": {
    "name": "ipython",
    "version": 3
   },
   "file_extension": ".py",
   "mimetype": "text/x-python",
   "name": "python",
   "nbconvert_exporter": "python",
   "pygments_lexer": "ipython3",
   "version": "3.5.2"
  }
 },
 "nbformat": 4,
 "nbformat_minor": 0
}
