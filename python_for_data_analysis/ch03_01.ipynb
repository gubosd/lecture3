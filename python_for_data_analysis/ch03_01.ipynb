{
 "cells": [
  {
   "cell_type": "code",
   "execution_count": 1,
   "metadata": {
    "collapsed": false
   },
   "outputs": [
    {
     "name": "stdout",
     "output_type": "stream",
     "text": [
      "Populating the interactive namespace from numpy and matplotlib\n"
     ]
    }
   ],
   "source": [
    "%pylab inline"
   ]
  },
  {
   "cell_type": "code",
   "execution_count": 2,
   "metadata": {
    "collapsed": true
   },
   "outputs": [],
   "source": [
    "import numpy as np\n",
    "import pandas as pd\n",
    "import matplotlib.pyplot as plt\n",
    "plt.style.use('ggplot')"
   ]
  },
  {
   "cell_type": "code",
   "execution_count": 8,
   "metadata": {
    "collapsed": false
   },
   "outputs": [],
   "source": [
    "l=[1,2,3]\n",
    "l?\n",
    "np.*arg*?"
   ]
  },
  {
   "cell_type": "code",
   "execution_count": 10,
   "metadata": {
    "collapsed": false
   },
   "outputs": [
    {
     "name": "stdout",
     "output_type": "stream",
     "text": [
      "The slowest run took 145.00 times longer than the fastest. This could mean that an intermediate result is being cached \n",
      "1000 loops, best of 3: 296 µs per loop\n"
     ]
    }
   ],
   "source": [
    "a=np.random.randn(100,100)\n",
    "%timeit np.dot(a,a)"
   ]
  },
  {
   "cell_type": "code",
   "execution_count": 21,
   "metadata": {
    "collapsed": false
   },
   "outputs": [
    {
     "name": "stdout",
     "output_type": "stream",
     "text": [
      " D 드라이브의 볼륨에는 이름이 없습니다.\n",
      " 볼륨 일련 번호: DEF8-3FF7\n",
      "\n",
      " D:\\김현호\\서울코딩학원\\develop 디렉터리\n",
      "\n",
      "2018-09-19  오전 01:03            95,495 ch02_01.ipynb\n",
      "2018-09-19  오전 01:03            40,442 ch02_02.ipynb\n",
      "2018-09-21  오전 10:53           309,345 ch02_03.ipynb\n",
      "2018-09-21  오전 11:04             2,041 ch03_01.ipynb\n",
      "2018-09-18  오후 09:39            26,388 Untitled.ipynb\n",
      "               5개 파일             473,711 바이트\n",
      "               0개 디렉터리  86,416,617,472 바이트 남음\n"
     ]
    }
   ],
   "source": [
    "!dir *.ipynb"
   ]
  },
  {
   "cell_type": "code",
   "execution_count": 23,
   "metadata": {
    "collapsed": false
   },
   "outputs": [
    {
     "name": "stdout",
     "output_type": "stream",
     "text": [
      "hello~\n",
      "__main__\n"
     ]
    }
   ],
   "source": [
    "def main():\n",
    "    print('hello~')\n",
    "    \n",
    "if __name__ == '__main__':\n",
    "    main()\n",
    "else:\n",
    "    print('not main...')\n",
    "    \n",
    "print(__name__)"
   ]
  }
 ],
 "metadata": {
  "kernelspec": {
   "display_name": "Python 3",
   "language": "python",
   "name": "python3"
  },
  "language_info": {
   "codemirror_mode": {
    "name": "ipython",
    "version": 3
   },
   "file_extension": ".py",
   "mimetype": "text/x-python",
   "name": "python",
   "nbconvert_exporter": "python",
   "pygments_lexer": "ipython3",
   "version": "3.5.2"
  }
 },
 "nbformat": 4,
 "nbformat_minor": 0
}
