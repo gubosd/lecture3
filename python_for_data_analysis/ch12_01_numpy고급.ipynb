{
 "cells": [
  {
   "cell_type": "markdown",
   "metadata": {},
   "source": [
    "## Chapter 12\n",
    "# Numpy 고급\n",
    "---"
   ]
  },
  {
   "cell_type": "code",
   "execution_count": 31,
   "metadata": {},
   "outputs": [
    {
     "name": "stdout",
     "output_type": "stream",
     "text": [
      "Populating the interactive namespace from numpy and matplotlib\n"
     ]
    },
    {
     "name": "stderr",
     "output_type": "stream",
     "text": [
      "C:\\ProgramData\\Anaconda3\\lib\\site-packages\\IPython\\core\\magics\\pylab.py:160: UserWarning: pylab import has clobbered these variables: ['f']\n",
      "`%matplotlib` prevents importing * from pylab and numpy\n",
      "  \"\\n`%matplotlib` prevents importing * from pylab and numpy\"\n"
     ]
    }
   ],
   "source": [
    "%pylab inline\n",
    "\n",
    "import numpy as np\n",
    "import pandas as pd\n",
    "import matplotlib.pyplot as plt"
   ]
  },
  {
   "cell_type": "markdown",
   "metadata": {},
   "source": [
    "### csv 파일 읽기\n",
    "- 파이썬 기본 라이브러리 사용"
   ]
  },
  {
   "cell_type": "code",
   "execution_count": 2,
   "metadata": {},
   "outputs": [
    {
     "name": "stdout",
     "output_type": "stream",
     "text": [
      "### 0 ==> [\"sepal.length\",\"sepal.width\",\"petal.length\",\"petal.width\",\"variety\"\n",
      "]\n",
      "### 1 ==> [5.1,3.5,1.4,.2,\"Setosa\"\n",
      "]\n",
      "### 2 ==> [4.9,3,1.4,.2,\"Setosa\"\n",
      "]\n",
      "### 3 ==> [4.7,3.2,1.3,.2,\"Setosa\"\n",
      "]\n",
      "### 4 ==> [4.6,3.1,1.5,.2,\"Setosa\"\n",
      "]\n"
     ]
    }
   ],
   "source": [
    "f = open('iris.csv')\n",
    "for i in range(5):\n",
    "    s = f.readline()\n",
    "    print('### %d ==> [%s]' % (i,s)) # 개행문자 포함됨\n",
    "f.close()"
   ]
  },
  {
   "cell_type": "code",
   "execution_count": 33,
   "metadata": {},
   "outputs": [
    {
     "data": {
      "text/plain": [
       "'\"sepal.length\",\"sepal.width\",\"petal.length\",\"petal.width\",\"variety\"\\n'"
      ]
     },
     "execution_count": 33,
     "metadata": {},
     "output_type": "execute_result"
    }
   ],
   "source": [
    "f = open('iris.csv')\n",
    "\n",
    "line = f.readline()\n",
    "header = line.strip().split(',')\n",
    "header = [s.strip('\"') for s in header]"
   ]
  },
  {
   "cell_type": "code",
   "execution_count": 37,
   "metadata": {
    "collapsed": true
   },
   "outputs": [
    {
     "name": "stdout",
     "output_type": "stream",
     "text": [
      "['sepal.length', 'sepal.width', 'petal.length', 'petal.width', 'variety']\n",
      "[[5.1, 3.5, 1.4, 0.2, 0], [4.9, 3.0, 1.4, 0.2, 0], [4.7, 3.2, 1.3, 0.2, 0], [4.6, 3.1, 1.5, 0.2, 0], [5.0, 3.6, 1.4, 0.2, 0]]\n"
     ]
    }
   ],
   "source": [
    "data = []\n",
    "mapper = {'\"Setosa\"': 0, '\"Versicolor\"': 1, '\"Virginica\"': 2}\n",
    "\n",
    "for line in f:\n",
    "    l = line.strip().split(',') # 모든 요소가 문자열로 저장됨\n",
    "    for i in range(4): l[i] = float(l[i]) # 숫자를 실수형으로 변환\n",
    "    l[-1] = mapper[l[-1]] # 레이블을 숫자로 변환 (따옴표 주의)\n",
    "    data.append(l)\n",
    "\n",
    "f.close()\n",
    "\n",
    "print(header)\n",
    "print(data[:5])\n",
    "\n",
    "raw_data = np.array(data)"
   ]
  },
  {
   "cell_type": "code",
   "execution_count": 3,
   "metadata": {},
   "outputs": [
    {
     "name": "stdout",
     "output_type": "stream",
     "text": [
      "['sepal.length', 'sepal.width', 'petal.length', 'petal.width', 'variety']\n",
      "[[5.1, 3.5, 1.4, 0.2, 0], [4.9, 3.0, 1.4, 0.2, 0], [4.7, 3.2, 1.3, 0.2, 0], [4.6, 3.1, 1.5, 0.2, 0], [5.0, 3.6, 1.4, 0.2, 0]]\n",
      "(150, 4) (150,)\n"
     ]
    },
    {
     "data": {
      "text/plain": [
       "array([[5.1, 3.5, 1.4, 0.2],\n",
       "       [4.9, 3. , 1.4, 0.2],\n",
       "       [4.7, 3.2, 1.3, 0.2],\n",
       "       [4.6, 3.1, 1.5, 0.2],\n",
       "       [5. , 3.6, 1.4, 0.2]])"
      ]
     },
     "metadata": {},
     "output_type": "display_data"
    },
    {
     "data": {
      "text/plain": [
       "array([0., 0., 0., 0., 0.])"
      ]
     },
     "metadata": {},
     "output_type": "display_data"
    }
   ],
   "source": [
    "X = raw_data[:,:-1]\n",
    "y = raw_data[:,-1]\n",
    "\n",
    "print(X.shape, y.shape)\n",
    "display(X[:5], y[:5])"
   ]
  },
  {
   "cell_type": "markdown",
   "metadata": {},
   "source": [
    "- numpy 의 loadtxt() 함수 사용"
   ]
  },
  {
   "cell_type": "code",
   "execution_count": 4,
   "metadata": {},
   "outputs": [
    {
     "name": "stdout",
     "output_type": "stream",
     "text": [
      "Help on function loadtxt in module numpy.lib.npyio:\n",
      "\n",
      "loadtxt(fname, dtype=<class 'float'>, comments='#', delimiter=None, converters=None, skiprows=0, usecols=None, unpack=False, ndmin=0, encoding='bytes')\n",
      "    Load data from a text file.\n",
      "    \n",
      "    Each row in the text file must have the same number of values.\n",
      "    \n",
      "    Parameters\n",
      "    ----------\n",
      "    fname : file, str, or pathlib.Path\n",
      "        File, filename, or generator to read.  If the filename extension is\n",
      "        ``.gz`` or ``.bz2``, the file is first decompressed. Note that\n",
      "        generators should return byte strings for Python 3k.\n",
      "    dtype : data-type, optional\n",
      "        Data-type of the resulting array; default: float.  If this is a\n",
      "        structured data-type, the resulting array will be 1-dimensional, and\n",
      "        each row will be interpreted as an element of the array.  In this\n",
      "        case, the number of columns used must match the number of fields in\n",
      "        the data-type.\n",
      "    comments : str or sequence of str, optional\n",
      "        The characters or list of characters used to indicate the start of a\n",
      "        comment. For backwards compatibility, byte strings will be decoded as\n",
      "        'latin1'. The default is '#'.\n",
      "    delimiter : str, optional\n",
      "        The string used to separate values. For backwards compatibility, byte\n",
      "        strings will be decoded as 'latin1'. The default is whitespace.\n",
      "    converters : dict, optional\n",
      "        A dictionary mapping column number to a function that will convert\n",
      "        that column to a float.  E.g., if column 0 is a date string:\n",
      "        ``converters = {0: datestr2num}``.  Converters can also be used to\n",
      "        provide a default value for missing data (but see also `genfromtxt`):\n",
      "        ``converters = {3: lambda s: float(s.strip() or 0)}``.  Default: None.\n",
      "    skiprows : int, optional\n",
      "        Skip the first `skiprows` lines; default: 0.\n",
      "    usecols : int or sequence, optional\n",
      "        Which columns to read, with 0 being the first. For example,\n",
      "        usecols = (1,4,5) will extract the 2nd, 5th and 6th columns.\n",
      "        The default, None, results in all columns being read.\n",
      "    \n",
      "        .. versionchanged:: 1.11.0\n",
      "            When a single column has to be read it is possible to use\n",
      "            an integer instead of a tuple. E.g ``usecols = 3`` reads the\n",
      "            fourth column the same way as `usecols = (3,)`` would.\n",
      "    unpack : bool, optional\n",
      "        If True, the returned array is transposed, so that arguments may be\n",
      "        unpacked using ``x, y, z = loadtxt(...)``.  When used with a structured\n",
      "        data-type, arrays are returned for each field.  Default is False.\n",
      "    ndmin : int, optional\n",
      "        The returned array will have at least `ndmin` dimensions.\n",
      "        Otherwise mono-dimensional axes will be squeezed.\n",
      "        Legal values: 0 (default), 1 or 2.\n",
      "    \n",
      "        .. versionadded:: 1.6.0\n",
      "    encoding : str, optional\n",
      "        Encoding used to decode the inputfile. Does not apply to input streams.\n",
      "        The special value 'bytes' enables backward compatibility workarounds\n",
      "        that ensures you receive byte arrays as results if possible and passes\n",
      "        latin1 encoded strings to converters. Override this value to receive\n",
      "        unicode arrays and pass strings as input to converters.  If set to None\n",
      "        the system default is used. The default value is 'bytes'.\n",
      "    \n",
      "        .. versionadded:: 1.14.0\n",
      "    \n",
      "    Returns\n",
      "    -------\n",
      "    out : ndarray\n",
      "        Data read from the text file.\n",
      "    \n",
      "    See Also\n",
      "    --------\n",
      "    load, fromstring, fromregex\n",
      "    genfromtxt : Load data with missing values handled as specified.\n",
      "    scipy.io.loadmat : reads MATLAB data files\n",
      "    \n",
      "    Notes\n",
      "    -----\n",
      "    This function aims to be a fast reader for simply formatted files.  The\n",
      "    `genfromtxt` function provides more sophisticated handling of, e.g.,\n",
      "    lines with missing values.\n",
      "    \n",
      "    .. versionadded:: 1.10.0\n",
      "    \n",
      "    The strings produced by the Python float.hex method can be used as\n",
      "    input for floats.\n",
      "    \n",
      "    Examples\n",
      "    --------\n",
      "    >>> from io import StringIO   # StringIO behaves like a file object\n",
      "    >>> c = StringIO(\"0 1\\n2 3\")\n",
      "    >>> np.loadtxt(c)\n",
      "    array([[ 0.,  1.],\n",
      "           [ 2.,  3.]])\n",
      "    \n",
      "    >>> d = StringIO(\"M 21 72\\nF 35 58\")\n",
      "    >>> np.loadtxt(d, dtype={'names': ('gender', 'age', 'weight'),\n",
      "    ...                      'formats': ('S1', 'i4', 'f4')})\n",
      "    array([('M', 21, 72.0), ('F', 35, 58.0)],\n",
      "          dtype=[('gender', '|S1'), ('age', '<i4'), ('weight', '<f4')])\n",
      "    \n",
      "    >>> c = StringIO(\"1,0,2\\n3,0,4\")\n",
      "    >>> x, y = np.loadtxt(c, delimiter=',', usecols=(0, 2), unpack=True)\n",
      "    >>> x\n",
      "    array([ 1.,  3.])\n",
      "    >>> y\n",
      "    array([ 2.,  4.])\n",
      "\n"
     ]
    }
   ],
   "source": [
    "help(numpy.loadtxt)"
   ]
  },
  {
   "cell_type": "code",
   "execution_count": 5,
   "metadata": {},
   "outputs": [
    {
     "data": {
      "text/plain": [
       "(150, 4)"
      ]
     },
     "metadata": {},
     "output_type": "display_data"
    },
    {
     "data": {
      "text/plain": [
       "array([[5.1, 3.5, 1.4, 0.2],\n",
       "       [4.9, 3. , 1.4, 0.2],\n",
       "       [4.7, 3.2, 1.3, 0.2],\n",
       "       [4.6, 3.1, 1.5, 0.2],\n",
       "       [5. , 3.6, 1.4, 0.2]])"
      ]
     },
     "metadata": {},
     "output_type": "display_data"
    }
   ],
   "source": [
    "# data = np.loadtxt('iris.csv', delimiter=',') # error!\n",
    "# data = np.loadtxt('iris.csv', delimiter=',', skiprows=1) # error!\n",
    "data = np.loadtxt('iris.csv', delimiter=',', skiprows=1, usecols=[0,1,2,3])\n",
    "\n",
    "display(data.shape, data[:5])"
   ]
  },
  {
   "cell_type": "code",
   "execution_count": 43,
   "metadata": {},
   "outputs": [
    {
     "data": {
      "text/plain": [
       "b'abc'"
      ]
     },
     "execution_count": 43,
     "metadata": {},
     "output_type": "execute_result"
    }
   ],
   "source": [
    "'abc'.encode() # decode()\n"
   ]
  },
  {
   "cell_type": "code",
   "execution_count": 6,
   "metadata": {},
   "outputs": [
    {
     "data": {
      "text/plain": [
       "(150, 5)"
      ]
     },
     "metadata": {},
     "output_type": "display_data"
    },
    {
     "data": {
      "text/plain": [
       "array([[5.1, 3.5, 1.4, 0.2, 0. ],\n",
       "       [4.9, 3. , 1.4, 0.2, 0. ],\n",
       "       [4.7, 3.2, 1.3, 0.2, 0. ],\n",
       "       [4.6, 3.1, 1.5, 0.2, 0. ],\n",
       "       [5. , 3.6, 1.4, 0.2, 0. ]])"
      ]
     },
     "metadata": {},
     "output_type": "display_data"
    }
   ],
   "source": [
    "mapper = {'\"Setosa\"': 0, '\"Versicolor\"': 1, '\"Virginica\"': 2}\n",
    "\n",
    "# data = np.loadtxt('iris.csv', delimiter=',', skiprows=1, encoding='utf-8',\n",
    "#                  converters={4: lambda s: mapper[s]})\n",
    "\n",
    "data = np.loadtxt('iris.csv', delimiter=',', skiprows=1,\n",
    "                 converters={4: lambda s: mapper[s.decode()]})\n",
    "\n",
    "display(data.shape, data[:5])"
   ]
  },
  {
   "cell_type": "code",
   "execution_count": 7,
   "metadata": {},
   "outputs": [
    {
     "data": {
      "text/plain": [
       "(3, 3)"
      ]
     },
     "metadata": {},
     "output_type": "display_data"
    },
    {
     "data": {
      "text/plain": [
       "array([[18.,  1.,  8.],\n",
       "       [35.,  2.,  9.],\n",
       "       [18.,  0.,  7.]])"
      ]
     },
     "metadata": {},
     "output_type": "display_data"
    }
   ],
   "source": [
    "mapper = {'우주':1, '서울':2}\n",
    "\n",
    "data = np.loadtxt('둘리와친구들.txt', delimiter=',', skiprows=1, usecols=[1,2,3], encoding='ms949',\n",
    "                  converters={2: lambda s: mapper[s] if s in mapper else 0})\n",
    "\n",
    "# data = np.loadtxt('둘리와친구들_utf-8.txt', delimiter=',', skiprows=1, usecols=[1,2,3], encoding='utf-8',\n",
    "#                   converters={2: lambda s: mapper[s] if s in mapper else 0})\n",
    "\n",
    "display(data.shape, data[:5])"
   ]
  },
  {
   "cell_type": "markdown",
   "metadata": {},
   "source": [
    "><**주의**\\>\n",
    "- 윈도우의 메모장에서 한글을 입력하고 저장하면 'ms949' 인코딩으로 저장된다.<br>이를 'utf-8' 로 저장하려면 '파일 > 다른이름으로저장' 으로 들어가서 하단의 인코딩을 'utf-8' 로 바꾸어 저장한다.\n",
    "- loadtxt() 함수는 기본적으로 실수형으로 데이터를 변환한다.<br>그리고 만일 비어 있는 데이터가 있다면 에러가 발생한다. 이런 경우 converters 옵션으로 해결해 주어야 한다. (converters = {3: lambda s: float(s.strip() or 0)})"
   ]
  },
  {
   "cell_type": "code",
   "execution_count": 8,
   "metadata": {},
   "outputs": [
    {
     "data": {
      "text/plain": [
       "array([[ 0,  1,  0,  1,  2,  3],\n",
       "       [ 2,  3,  4,  5,  6,  7],\n",
       "       [ 4,  5,  8,  9, 10, 11]])"
      ]
     },
     "execution_count": 8,
     "metadata": {},
     "output_type": "execute_result"
    }
   ],
   "source": [
    "a = np.arange(6).reshape(3,2)\n",
    "b = np.arange(12).reshape(3,4)\n",
    "\n",
    "np.concatenate([a,b],axis=1)\n",
    "np.hstack([a,b])\n",
    "np.c_[a,b]"
   ]
  },
  {
   "cell_type": "code",
   "execution_count": 9,
   "metadata": {},
   "outputs": [
    {
     "data": {
      "text/plain": [
       "array([[ 0,  1,  2],\n",
       "       [ 3,  4,  5],\n",
       "       [ 0,  1,  2],\n",
       "       [ 3,  4,  5],\n",
       "       [ 6,  7,  8],\n",
       "       [ 9, 10, 11]])"
      ]
     },
     "execution_count": 9,
     "metadata": {},
     "output_type": "execute_result"
    }
   ],
   "source": [
    "a = np.arange(6).reshape(2,3)\n",
    "b = np.arange(12).reshape(4,3)\n",
    "\n",
    "np.concatenate([a,b],axis=0)\n",
    "np.vstack([a,b])\n",
    "np.r_[a,b]"
   ]
  },
  {
   "cell_type": "code",
   "execution_count": 10,
   "metadata": {},
   "outputs": [
    {
     "data": {
      "text/plain": [
       "array([[ 0,  1,  2,  3],\n",
       "       [ 5,  6,  7,  8],\n",
       "       [10, 11, 12, 13]])"
      ]
     },
     "metadata": {},
     "output_type": "display_data"
    },
    {
     "data": {
      "text/plain": [
       "array([[-1],\n",
       "       [ 9],\n",
       "       [14]])"
      ]
     },
     "metadata": {},
     "output_type": "display_data"
    },
    {
     "data": {
      "text/plain": [
       "array([[ 0,  1,  2,  3, -1],\n",
       "       [ 5,  6,  7,  8,  9],\n",
       "       [10, 11, 12, 13, 14]])"
      ]
     },
     "metadata": {},
     "output_type": "display_data"
    }
   ],
   "source": [
    "a = np.arange(15).reshape(3,5)\n",
    "first,second = np.split(a,[4],axis=1) # reference\n",
    "\n",
    "second[0,0]=-1\n",
    "display(first,second,a)"
   ]
  },
  {
   "cell_type": "code",
   "execution_count": 11,
   "metadata": {},
   "outputs": [
    {
     "data": {
      "text/plain": [
       "array([[0, 0, 1],\n",
       "       [1, 2, 3],\n",
       "       [2, 4, 5]])"
      ]
     },
     "execution_count": 11,
     "metadata": {},
     "output_type": "execute_result"
    }
   ],
   "source": [
    "a = np.arange(3)\n",
    "b = np.arange(6).reshape(3,2)\n",
    "\n",
    "np.c_[a,a] # (3,) => (3,1) 로 변환\n",
    "np.r_[a,a]\n",
    "np.c_[a,b]"
   ]
  },
  {
   "cell_type": "code",
   "execution_count": 12,
   "metadata": {},
   "outputs": [
    {
     "data": {
      "text/plain": [
       "array([[0, 1, 0, 1],\n",
       "       [2, 3, 2, 3],\n",
       "       [4, 5, 4, 5]])"
      ]
     },
     "execution_count": 12,
     "metadata": {},
     "output_type": "execute_result"
    }
   ],
   "source": [
    "a = np.arange(3)\n",
    "b = np.arange(6).reshape(3,2)\n",
    "\n",
    "np.tile(a,[2,3])\n",
    "np.tile(b,[2,3])\n",
    "np.tile(b,2)"
   ]
  },
  {
   "cell_type": "markdown",
   "metadata": {},
   "source": [
    "### 브로드캐스팅 (broadcasting)\n",
    "\n",
    "- 두 어레이의 shape 에서, 각 차원의 값이 같거나 1이어야 한다. ((3,1,2) <=> (3,3,1))\n",
    "- 1차원 벡터와 같이 차원이 적은 경우, 앞부분이 1로 채워진 것으로 생각한다. ((3,1,2) <=> (2,), (3,1,2) <=> (1,2))\n",
    "- [Numpy 메뉴얼](https://docs.scipy.org/doc/numpy-1.13.0/user/basics.broadcasting.html) 참조"
   ]
  },
  {
   "cell_type": "code",
   "execution_count": 13,
   "metadata": {},
   "outputs": [
    {
     "data": {
      "text/plain": [
       "array([[ 0,  1,  2],\n",
       "       [ 3,  4,  5],\n",
       "       [ 6,  7,  8],\n",
       "       [ 9, 10, 11]])"
      ]
     },
     "metadata": {},
     "output_type": "display_data"
    },
    {
     "data": {
      "text/plain": [
       "array([[ 1,  3,  5],\n",
       "       [ 4,  6,  8],\n",
       "       [ 7,  9, 11],\n",
       "       [10, 12, 14]])"
      ]
     },
     "metadata": {},
     "output_type": "display_data"
    },
    {
     "data": {
      "text/plain": [
       "array([[ 1,  2,  3],\n",
       "       [ 5,  6,  7],\n",
       "       [ 9, 10, 11],\n",
       "       [13, 14, 15]])"
      ]
     },
     "metadata": {},
     "output_type": "display_data"
    }
   ],
   "source": [
    "a = np.arange(12).reshape(4,3)\n",
    "display(a)\n",
    "\n",
    "display(a + [1,2,3]) # (4,3) <=> (3,)\n",
    "display(a + [[1],[2],[3],[4]]) # (4,3) <=> (4,1)"
   ]
  },
  {
   "cell_type": "code",
   "execution_count": 14,
   "metadata": {},
   "outputs": [
    {
     "data": {
      "text/plain": [
       "array([[2, 3, 4],\n",
       "       [3, 4, 5],\n",
       "       [4, 5, 6]])"
      ]
     },
     "execution_count": 14,
     "metadata": {},
     "output_type": "execute_result"
    }
   ],
   "source": [
    "a = np.array([1,2,3])\n",
    "a + a.reshape(-1,1) # (3,) <=> (3,1)"
   ]
  },
  {
   "cell_type": "code",
   "execution_count": 15,
   "metadata": {},
   "outputs": [
    {
     "data": {
      "text/plain": [
       "array([[ 0,  1,  2],\n",
       "       [ 3,  4,  5],\n",
       "       [ 6,  7,  8],\n",
       "       [ 9, 10, 11]])"
      ]
     },
     "metadata": {},
     "output_type": "display_data"
    },
    {
     "data": {
      "text/plain": [
       "array([4.5, 5.5, 6.5])"
      ]
     },
     "metadata": {},
     "output_type": "display_data"
    },
    {
     "data": {
      "text/plain": [
       "array([[-4.5, -4.5, -4.5],\n",
       "       [-1.5, -1.5, -1.5],\n",
       "       [ 1.5,  1.5,  1.5],\n",
       "       [ 4.5,  4.5,  4.5]])"
      ]
     },
     "metadata": {},
     "output_type": "display_data"
    },
    {
     "data": {
      "text/plain": [
       "array([ 1.,  4.,  7., 10.])"
      ]
     },
     "metadata": {},
     "output_type": "display_data"
    },
    {
     "data": {
      "text/plain": [
       "array([[-1.,  0.,  1.],\n",
       "       [-1.,  0.,  1.],\n",
       "       [-1.,  0.,  1.],\n",
       "       [-1.,  0.,  1.]])"
      ]
     },
     "metadata": {},
     "output_type": "display_data"
    }
   ],
   "source": [
    "a = np.arange(12).reshape(4,3)\n",
    "display(a)\n",
    "\n",
    "col_mean = a.mean(axis=0)\n",
    "display(col_mean, a - col_mean)\n",
    "\n",
    "row_mean = a.mean(axis=1)\n",
    "display(row_mean, a - row_mean.reshape(-1,1))"
   ]
  },
  {
   "cell_type": "code",
   "execution_count": 16,
   "metadata": {},
   "outputs": [
    {
     "data": {
      "text/plain": [
       "array([[ 0,  1,  2],\n",
       "       [ 3,  4,  5],\n",
       "       [ 6,  7,  8],\n",
       "       [ 9, 10, 11]])"
      ]
     },
     "metadata": {},
     "output_type": "display_data"
    },
    {
     "data": {
      "text/plain": [
       "array([[-1.34164079, -1.34164079, -1.34164079],\n",
       "       [-0.4472136 , -0.4472136 , -0.4472136 ],\n",
       "       [ 0.4472136 ,  0.4472136 ,  0.4472136 ],\n",
       "       [ 1.34164079,  1.34164079,  1.34164079]])"
      ]
     },
     "metadata": {},
     "output_type": "display_data"
    },
    {
     "data": {
      "text/plain": [
       "array([[0.        , 0.        , 0.        ],\n",
       "       [0.33333333, 0.33333333, 0.33333333],\n",
       "       [0.66666667, 0.66666667, 0.66666667],\n",
       "       [1.        , 1.        , 1.        ]])"
      ]
     },
     "metadata": {},
     "output_type": "display_data"
    }
   ],
   "source": [
    "display(a)\n",
    "\n",
    "### normalization ###\n",
    "n1 = (a - a.mean(axis=0))/a.std(axis=0)\n",
    "n2 = (a - a.min(axis=0))/(a.max(axis=0)-a.min(axis=0))\n",
    "display(n1,n2)"
   ]
  },
  {
   "cell_type": "markdown",
   "metadata": {},
   "source": [
    "### 사용자 정의 함수 적용"
   ]
  },
  {
   "cell_type": "code",
   "execution_count": 17,
   "metadata": {},
   "outputs": [
    {
     "data": {
      "text/plain": [
       "array([[ 2.74064764,  0.09129616,  0.09645198, -0.57663219, -0.34058093],\n",
       "       [-0.64551743,  0.57828574, -2.09965985,  1.77438508,  0.75070041],\n",
       "       [ 0.01835792,  1.3881756 ,  0.06638462,  0.41905472, -0.34909658],\n",
       "       [ 0.19013882, -1.8950263 ,  0.74499427, -1.19169701,  1.31220739],\n",
       "       [ 1.03159677,  0.05441782,  0.01250528, -1.17270404,  0.97646324]])"
      ]
     },
     "metadata": {},
     "output_type": "display_data"
    },
    {
     "data": {
      "text/plain": [
       "array([[ 1.        ,  0.09129616,  0.09645198, -0.57663219, -0.34058093],\n",
       "       [-0.64551743,  0.57828574, -1.        ,  1.        ,  0.75070041],\n",
       "       [ 0.01835792,  1.        ,  0.06638462,  0.41905472, -0.34909658],\n",
       "       [ 0.19013882, -1.        ,  0.74499427, -1.        ,  1.        ],\n",
       "       [ 1.        ,  0.05441782,  0.01250528, -1.        ,  0.97646324]])"
      ]
     },
     "execution_count": 17,
     "metadata": {},
     "output_type": "execute_result"
    }
   ],
   "source": [
    "a = np.random.randn(5,5)\n",
    "display(a)\n",
    "\n",
    "# my_func = lambda x: -1 if x<-1 else (1 if x>1 else x)\n",
    "my_func = lambda x: x if -1<x<1 else 1*sign(x)\n",
    "np.vectorize(my_func)(a)"
   ]
  },
  {
   "cell_type": "markdown",
   "metadata": {},
   "source": [
    "### 정렬"
   ]
  },
  {
   "cell_type": "code",
   "execution_count": 48,
   "metadata": {},
   "outputs": [
    {
     "data": {
      "text/plain": [
       "array([[3, 1, 4, 3],\n",
       "       [3, 6, 8, 0],\n",
       "       [0, 4, 5, 1],\n",
       "       [1, 7, 0, 8],\n",
       "       [0, 8, 0, 2],\n",
       "       [7, 9, 5, 0],\n",
       "       [6, 3, 4, 8],\n",
       "       [6, 3, 6, 5],\n",
       "       [9, 6, 1, 9],\n",
       "       [5, 5, 5, 3]])"
      ]
     },
     "execution_count": 48,
     "metadata": {},
     "output_type": "execute_result"
    }
   ],
   "source": [
    "a = np.random.randint(10,size=[10,4]); a"
   ]
  },
  {
   "cell_type": "code",
   "execution_count": 51,
   "metadata": {},
   "outputs": [
    {
     "data": {
      "text/plain": [
       "array([[1, 3, 3, 4],\n",
       "       [0, 3, 6, 8],\n",
       "       [0, 1, 4, 5],\n",
       "       [0, 1, 7, 8],\n",
       "       [0, 0, 2, 8],\n",
       "       [0, 5, 7, 9],\n",
       "       [3, 4, 6, 8],\n",
       "       [3, 5, 6, 6],\n",
       "       [1, 6, 9, 9],\n",
       "       [3, 5, 5, 5]])"
      ]
     },
     "execution_count": 51,
     "metadata": {},
     "output_type": "execute_result"
    }
   ],
   "source": [
    "np.sort(a)"
   ]
  },
  {
   "cell_type": "code",
   "execution_count": 19,
   "metadata": {},
   "outputs": [
    {
     "data": {
      "text/plain": [
       "array([[0, 0, 1, 0],\n",
       "       [2, 3, 1, 1],\n",
       "       [3, 3, 4, 1],\n",
       "       [3, 4, 4, 2],\n",
       "       [5, 4, 5, 2],\n",
       "       [5, 6, 5, 3],\n",
       "       [6, 7, 6, 3],\n",
       "       [7, 8, 7, 5],\n",
       "       [8, 9, 8, 6],\n",
       "       [8, 9, 9, 9]])"
      ]
     },
     "execution_count": 19,
     "metadata": {},
     "output_type": "execute_result"
    }
   ],
   "source": [
    "np.sort(a) # a.sort()\n",
    "np.sort(a, axis=0) # a.sort(axis=0)"
   ]
  },
  {
   "cell_type": "code",
   "execution_count": 52,
   "metadata": {},
   "outputs": [
    {
     "data": {
      "text/plain": [
       "array([4, 0, 1, 3, 2], dtype=int64)"
      ]
     },
     "execution_count": 52,
     "metadata": {},
     "output_type": "execute_result"
    }
   ],
   "source": [
    "np.argsort([1,2,4,3,0])"
   ]
  },
  {
   "cell_type": "code",
   "execution_count": 53,
   "metadata": {},
   "outputs": [
    {
     "data": {
      "text/plain": [
       "array([0, 1, 2, 3, 4])"
      ]
     },
     "execution_count": 53,
     "metadata": {},
     "output_type": "execute_result"
    }
   ],
   "source": [
    "np.sort([1,2,4,3,0])"
   ]
  },
  {
   "cell_type": "code",
   "execution_count": 20,
   "metadata": {},
   "outputs": [
    {
     "data": {
      "text/plain": [
       "array([1, 8, 0, 2, 6, 7, 3, 5, 4, 9], dtype=int64)"
      ]
     },
     "metadata": {},
     "output_type": "display_data"
    },
    {
     "data": {
      "text/plain": [
       "array([0, 2, 3, 3, 5, 5, 6, 7, 8, 8])"
      ]
     },
     "execution_count": 20,
     "metadata": {},
     "output_type": "execute_result"
    }
   ],
   "source": [
    "marker = a[:,0].argsort()\n",
    "display(marker)\n",
    "\n",
    "a[:,0][marker]"
   ]
  },
  {
   "cell_type": "code",
   "execution_count": 21,
   "metadata": {},
   "outputs": [
    {
     "data": {
      "text/plain": [
       "array([[0, 7, 8, 2],\n",
       "       [2, 6, 4, 3],\n",
       "       [3, 8, 6, 1],\n",
       "       [3, 9, 1, 2],\n",
       "       [5, 3, 5, 0],\n",
       "       [5, 0, 1, 6],\n",
       "       [6, 4, 4, 3],\n",
       "       [7, 9, 7, 5],\n",
       "       [8, 3, 9, 1],\n",
       "       [8, 4, 5, 9]])"
      ]
     },
     "execution_count": 21,
     "metadata": {},
     "output_type": "execute_result"
    }
   ],
   "source": [
    "sorted_a = a[marker]\n",
    "sorted_a"
   ]
  },
  {
   "cell_type": "code",
   "execution_count": 22,
   "metadata": {},
   "outputs": [
    {
     "data": {
      "text/plain": [
       "array([1, 8, 0, 2, 7, 6, 3, 5, 4, 9], dtype=int64)"
      ]
     },
     "metadata": {},
     "output_type": "display_data"
    },
    {
     "data": {
      "text/plain": [
       "array([[0, 7, 8, 2],\n",
       "       [2, 6, 4, 3],\n",
       "       [3, 8, 6, 1],\n",
       "       [3, 9, 1, 2],\n",
       "       [5, 0, 1, 6],\n",
       "       [5, 3, 5, 0],\n",
       "       [6, 4, 4, 3],\n",
       "       [7, 9, 7, 5],\n",
       "       [8, 3, 9, 1],\n",
       "       [8, 4, 5, 9]])"
      ]
     },
     "execution_count": 22,
     "metadata": {},
     "output_type": "execute_result"
    }
   ],
   "source": [
    "marker2 = np.lexsort([a[:,1],a[:,0]]) # sort by first col_0, then col_1\n",
    "display(marker2)\n",
    "\n",
    "a[marker2]"
   ]
  },
  {
   "cell_type": "code",
   "execution_count": 23,
   "metadata": {},
   "outputs": [
    {
     "data": {
      "text/plain": [
       "array([[8, 4, 5, 9],\n",
       "       [8, 3, 9, 1],\n",
       "       [7, 9, 7, 5],\n",
       "       [6, 4, 4, 3],\n",
       "       [5, 3, 5, 0],\n",
       "       [5, 0, 1, 6],\n",
       "       [3, 9, 1, 2],\n",
       "       [3, 8, 6, 1],\n",
       "       [2, 6, 4, 3],\n",
       "       [0, 7, 8, 2]])"
      ]
     },
     "execution_count": 23,
     "metadata": {},
     "output_type": "execute_result"
    }
   ],
   "source": [
    "a[marker2][::-1]"
   ]
  },
  {
   "cell_type": "code",
   "execution_count": 24,
   "metadata": {},
   "outputs": [
    {
     "data": {
      "text/plain": [
       "array([54, 93, 22, 72, 95, 67, 69, 35, 20, 57, 54, 30, 41, 65, 16, 74, 45,\n",
       "       74, 34, 27])"
      ]
     },
     "metadata": {},
     "output_type": "display_data"
    },
    {
     "data": {
      "text/plain": [
       "array([1, 5, 1, 3, 5, 2, 2, 1, 1, 1, 1, 1, 1, 2, 1, 3, 1, 3, 1, 1],\n",
       "      dtype=int64)"
      ]
     },
     "metadata": {},
     "output_type": "display_data"
    },
    {
     "data": {
      "text/plain": [
       "array(['가', '수', '가', '미', '수', '양', '양', '가', '가', '가', '가', '가', '가',\n",
       "       '양', '가', '미', '가', '미', '가', '가'], dtype='<U1')"
      ]
     },
     "execution_count": 24,
     "metadata": {},
     "output_type": "execute_result"
    }
   ],
   "source": [
    "a = np.random.randint(101,size=20)\n",
    "display(a)\n",
    "\n",
    "b = np.digitize(a,[0,60,70,80,90,101]) # 구간값(1부터)를 할당한다 => 가/양/미/우/수\n",
    "display(b)\n",
    "\n",
    "names = {1: '가', 2: '양', 3: '미', 4: '우', 5: '수'}\n",
    "np.vectorize(lambda x: names[x])(b)"
   ]
  },
  {
   "cell_type": "markdown",
   "metadata": {},
   "source": [
    "### Iris 데이터 정렬"
   ]
  },
  {
   "cell_type": "code",
   "execution_count": 25,
   "metadata": {},
   "outputs": [
    {
     "data": {
      "text/plain": [
       "(150, 5)"
      ]
     },
     "metadata": {},
     "output_type": "display_data"
    },
    {
     "data": {
      "text/plain": [
       "array([[5.1, 3.5, 1.4, 0.2, 0. ],\n",
       "       [4.9, 3. , 1.4, 0.2, 0. ],\n",
       "       [4.7, 3.2, 1.3, 0.2, 0. ],\n",
       "       [4.6, 3.1, 1.5, 0.2, 0. ],\n",
       "       [5. , 3.6, 1.4, 0.2, 0. ]])"
      ]
     },
     "metadata": {},
     "output_type": "display_data"
    }
   ],
   "source": [
    "mapper = {'\"Setosa\"': 0, '\"Versicolor\"': 1, '\"Virginica\"': 2}\n",
    "\n",
    "iris = np.loadtxt('iris.csv', delimiter=',', skiprows=1,\n",
    "                 converters={4: lambda s: mapper[s.decode()]})\n",
    "\n",
    "display(iris.shape, iris[:5])"
   ]
  },
  {
   "cell_type": "code",
   "execution_count": 26,
   "metadata": {},
   "outputs": [
    {
     "data": {
      "text/plain": [
       "array([[4.3, 3. , 1.1, 0.1, 0. ],\n",
       "       [4.4, 3.2, 1.3, 0.2, 0. ],\n",
       "       [4.4, 3. , 1.3, 0.2, 0. ],\n",
       "       [4.4, 2.9, 1.4, 0.2, 0. ],\n",
       "       [4.5, 2.3, 1.3, 0.3, 0. ],\n",
       "       [4.6, 3.6, 1. , 0.2, 0. ],\n",
       "       [4.6, 3.1, 1.5, 0.2, 0. ],\n",
       "       [4.6, 3.4, 1.4, 0.3, 0. ],\n",
       "       [4.6, 3.2, 1.4, 0.2, 0. ],\n",
       "       [4.7, 3.2, 1.3, 0.2, 0. ]])"
      ]
     },
     "execution_count": 26,
     "metadata": {},
     "output_type": "execute_result"
    }
   ],
   "source": [
    "iris[iris[:,0].argsort()][:10]"
   ]
  },
  {
   "cell_type": "code",
   "execution_count": 27,
   "metadata": {
    "scrolled": true
   },
   "outputs": [
    {
     "data": {
      "text/plain": [
       "array([ 13,  38,  42,   8,  41,  22,   6,  47,   3,   2,  29,  12,  45,\n",
       "        11,  30,  24,   1,  37,   9,  34,  57, 106,  35,  40,   4,  49,\n",
       "         7,  25,  26,  43,  93,  60,   0,  17,  19,  21,  39,  46,  23,\n",
       "        44,  98,  28,  27,  32,  59,  48,  16,  10,  31,   5,  20,  84,\n",
       "        36,  33,  81,  80,  53,  89,  90,  64,  69,  88,  94,  66, 121,\n",
       "        15,  18,  79,  99,  95,  96,  55, 113,  14,  82,  92,  67, 101,\n",
       "       114, 142,  61,  70, 149,  62,  78,  85, 138, 119,  83,  71,  91,\n",
       "        63,  73, 127, 134,  97,  68, 126, 148,  87,  56,  72, 123, 146,\n",
       "       133, 103, 136, 100,  74,  51, 111, 115, 137, 128, 132,  54, 110,\n",
       "       147, 116, 104,  75,  58,  65,  86,  77, 145, 140, 124, 144, 108,\n",
       "        76, 112, 143,  52, 141, 139, 120,  50, 102, 129, 125, 109, 107,\n",
       "       130, 105, 135, 117, 122, 118, 131], dtype=int64)"
      ]
     },
     "metadata": {},
     "output_type": "display_data"
    }
   ],
   "source": [
    "marker = np.lexsort([iris[:,2],iris[:,0]])\n",
    "display(marker)\n",
    "\n",
    "iris2 = iris[marker]"
   ]
  },
  {
   "cell_type": "code",
   "execution_count": 54,
   "metadata": {
    "scrolled": true
   },
   "outputs": [
    {
     "data": {
      "text/plain": [
       "(4.12, 8.08, -0.1, 2.1)"
      ]
     },
     "execution_count": 54,
     "metadata": {},
     "output_type": "execute_result"
    },
    {
     "data": {
      "image/png": "[encoded data removed]",
      "text/plain": [
       "<Figure size 432x288 with 1 Axes>"
      ]
     },
     "metadata": {},
     "output_type": "display_data"
    }
   ],
   "source": [
    "plt.plot(iris2[:,0],iris2[:,4],'bo')\n",
    "plt.yticks([0,1,2],['Setosa','Versicolor','Virginica'])\n",
    "plt.xlabel('sepal_length')\n",
    "plt.title('Iris - sepal length distribution')\n",
    "plt.legend(['samples'],loc='lower right',shadow=True)\n",
    "plt.axis('equal')"
   ]
  },
  {
   "cell_type": "code",
   "execution_count": 29,
   "metadata": {},
   "outputs": [
    {
     "data": {
      "text/plain": [
       "array([[ 0.45537483, -1.15832408,  0.42328432, -0.49857293,  0.82172649],\n",
       "       [ 0.1442714 ,  1.52993169, -0.01778976, -1.07452484, -0.98410771],\n",
       "       [-0.17235573, -0.2347653 ,  1.30308013, -1.0335126 , -0.25850427]])"
      ]
     },
     "execution_count": 29,
     "metadata": {},
     "output_type": "execute_result"
    }
   ],
   "source": [
    "import numpy as np\n",
    "\n",
    "a = np.random.randn(3,5)\n",
    "a"
   ]
  },
  {
   "cell_type": "code",
   "execution_count": 30,
   "metadata": {},
   "outputs": [
    {
     "data": {
      "text/plain": [
       "array([[ 0.1442714 ,  1.52993169, -0.01778976, -1.07452484, -0.98410771],\n",
       "       [ 0.45537483, -1.15832408,  0.42328432, -0.49857293,  0.82172649],\n",
       "       [-0.17235573, -0.2347653 ,  1.30308013, -1.0335126 , -0.25850427]])"
      ]
     },
     "execution_count": 30,
     "metadata": {},
     "output_type": "execute_result"
    }
   ],
   "source": [
    "np.random.shuffle(a); a"
   ]
  }
 ],
 "metadata": {
  "kernelspec": {
   "display_name": "Python 3",
   "language": "python",
   "name": "python3"
  },
  "language_info": {
   "codemirror_mode": {
    "name": "ipython",
    "version": 3
   },
   "file_extension": ".py",
   "mimetype": "text/x-python",
   "name": "python",
   "nbconvert_exporter": "python",
   "pygments_lexer": "ipython3",
   "version": "3.6.5"
  }
 },
 "nbformat": 4,
 "nbformat_minor": 1
}
