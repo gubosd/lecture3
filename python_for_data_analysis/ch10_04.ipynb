{
 "cells": [
  {
   "cell_type": "markdown",
   "metadata": {},
   "source": [
    "## Chapter 10\n",
    "# Time Series\n",
    "---\n",
    "## Time Zone Handling"
   ]
  },
  {
   "cell_type": "code",
   "execution_count": 6,
   "metadata": {},
   "outputs": [
    {
     "name": "stdout",
     "output_type": "stream",
     "text": [
      "Populating the interactive namespace from numpy and matplotlib\n"
     ]
    }
   ],
   "source": [
    "%pylab inline\n",
    "\n",
    "import numpy as np\n",
    "import pandas as pd\n",
    "import matplotlib.pyplot as plt\n",
    "plt.style.use('ggplot')"
   ]
  },
  {
   "cell_type": "markdown",
   "metadata": {},
   "source": [
    "- 국제표준이며 그리니치 표준시를 계승하는 국제표준시 혹은 **UTC**\n",
    "- 시간대는 UTC로부터 떨어진 오프셋으로 표현\n",
    "- 각 나라별로 오프셋과 서머타임이 역사적으로 여러번 변경되어 복잡함"
   ]
  },
  {
   "cell_type": "code",
   "execution_count": 2,
   "metadata": {},
   "outputs": [
    {
     "name": "stdout",
     "output_type": "stream",
     "text": [
      "Asia/Seoul\n"
     ]
    },
    {
     "data": {
      "text/plain": [
       "<DstTzInfo 'Asia/Seoul' LMT+8:28:00 STD>"
      ]
     },
     "execution_count": 2,
     "metadata": {},
     "output_type": "execute_result"
    }
   ],
   "source": [
    "import pytz\n",
    "\n",
    "for tz in pytz.common_timezones:\n",
    "    if 'seoul' in tz.lower(): print(tz)\n",
    "        \n",
    "tz = pytz.timezone('Asia/Seoul')\n",
    "tz"
   ]
  },
  {
   "cell_type": "code",
   "execution_count": 15,
   "metadata": {},
   "outputs": [
    {
     "data": {
      "text/plain": [
       "['Pacific/Wake',\n",
       " 'Pacific/Wallis',\n",
       " 'US/Alaska',\n",
       " 'US/Arizona',\n",
       " 'US/Central',\n",
       " 'US/Eastern',\n",
       " 'US/Hawaii',\n",
       " 'US/Mountain',\n",
       " 'US/Pacific',\n",
       " 'UTC']"
      ]
     },
     "execution_count": 15,
     "metadata": {},
     "output_type": "execute_result"
    }
   ],
   "source": [
    "pytz.common_timezones[-10:]"
   ]
  },
  {
   "cell_type": "code",
   "execution_count": 27,
   "metadata": {},
   "outputs": [
    {
     "data": {
      "text/plain": [
       "DatetimeIndex(['2018-01-01', '2018-01-02', '2018-01-03', '2018-01-04',\n",
       "               '2018-01-05', '2018-01-06', '2018-01-07', '2018-01-08',\n",
       "               '2018-01-09', '2018-01-10'],\n",
       "              dtype='datetime64[ns]', freq='D')"
      ]
     },
     "metadata": {},
     "output_type": "display_data"
    },
    {
     "name": "stdout",
     "output_type": "stream",
     "text": [
      "None 1514764800000000000\n"
     ]
    }
   ],
   "source": [
    "d = pd.date_range('2018-1-1','2018-1-10',freq='D') # tz=None is default\n",
    "display(d)\n",
    "print(d.tz, d[0].value)"
   ]
  },
  {
   "cell_type": "code",
   "execution_count": 23,
   "metadata": {},
   "outputs": [
    {
     "data": {
      "text/plain": [
       "DatetimeIndex(['2018-01-01 00:00:00+09:00', '2018-01-02 00:00:00+09:00',\n",
       "               '2018-01-03 00:00:00+09:00', '2018-01-04 00:00:00+09:00',\n",
       "               '2018-01-05 00:00:00+09:00', '2018-01-06 00:00:00+09:00',\n",
       "               '2018-01-07 00:00:00+09:00', '2018-01-08 00:00:00+09:00',\n",
       "               '2018-01-09 00:00:00+09:00', '2018-01-10 00:00:00+09:00'],\n",
       "              dtype='datetime64[ns, Asia/Seoul]', freq='D')"
      ]
     },
     "metadata": {},
     "output_type": "display_data"
    },
    {
     "data": {
      "text/plain": [
       "DatetimeIndex(['2017-12-31 15:00:00+00:00', '2018-01-01 15:00:00+00:00',\n",
       "               '2018-01-02 15:00:00+00:00', '2018-01-03 15:00:00+00:00',\n",
       "               '2018-01-04 15:00:00+00:00', '2018-01-05 15:00:00+00:00',\n",
       "               '2018-01-06 15:00:00+00:00', '2018-01-07 15:00:00+00:00',\n",
       "               '2018-01-08 15:00:00+00:00', '2018-01-09 15:00:00+00:00'],\n",
       "              dtype='datetime64[ns, UTC]', freq='D')"
      ]
     },
     "execution_count": 23,
     "metadata": {},
     "output_type": "execute_result"
    }
   ],
   "source": [
    "d2 = d.tz_localize('Asia/Seoul') # 'UTC', 'US/Eastern'\n",
    "display(d2)\n",
    "d2.tz_convert('UTC')"
   ]
  },
  {
   "cell_type": "code",
   "execution_count": 25,
   "metadata": {
    "scrolled": true
   },
   "outputs": [
    {
     "data": {
      "text/html": [
       "<div>\n",
       "<style>\n",
       "    .dataframe thead tr:only-child th {\n",
       "        text-align: right;\n",
       "    }\n",
       "\n",
       "    .dataframe thead th {\n",
       "        text-align: left;\n",
       "    }\n",
       "\n",
       "    .dataframe tbody tr th {\n",
       "        vertical-align: top;\n",
       "    }\n",
       "</style>\n",
       "<table border=\"1\" class=\"dataframe\">\n",
       "  <thead>\n",
       "    <tr style=\"text-align: right;\">\n",
       "      <th></th>\n",
       "      <th>a</th>\n",
       "      <th>b</th>\n",
       "      <th>c</th>\n",
       "    </tr>\n",
       "  </thead>\n",
       "  <tbody>\n",
       "    <tr>\n",
       "      <th>2018-01-01 14:00:00+09:00</th>\n",
       "      <td>6</td>\n",
       "      <td>6</td>\n",
       "      <td>6</td>\n",
       "    </tr>\n",
       "    <tr>\n",
       "      <th>2018-01-02 14:00:00+09:00</th>\n",
       "      <td>2</td>\n",
       "      <td>9</td>\n",
       "      <td>8</td>\n",
       "    </tr>\n",
       "    <tr>\n",
       "      <th>2018-01-03 14:00:00+09:00</th>\n",
       "      <td>7</td>\n",
       "      <td>0</td>\n",
       "      <td>6</td>\n",
       "    </tr>\n",
       "    <tr>\n",
       "      <th>2018-01-04 14:00:00+09:00</th>\n",
       "      <td>7</td>\n",
       "      <td>5</td>\n",
       "      <td>2</td>\n",
       "    </tr>\n",
       "    <tr>\n",
       "      <th>2018-01-05 14:00:00+09:00</th>\n",
       "      <td>3</td>\n",
       "      <td>1</td>\n",
       "      <td>0</td>\n",
       "    </tr>\n",
       "    <tr>\n",
       "      <th>2018-01-06 14:00:00+09:00</th>\n",
       "      <td>2</td>\n",
       "      <td>5</td>\n",
       "      <td>5</td>\n",
       "    </tr>\n",
       "    <tr>\n",
       "      <th>2018-01-07 14:00:00+09:00</th>\n",
       "      <td>3</td>\n",
       "      <td>3</td>\n",
       "      <td>8</td>\n",
       "    </tr>\n",
       "    <tr>\n",
       "      <th>2018-01-08 14:00:00+09:00</th>\n",
       "      <td>2</td>\n",
       "      <td>2</td>\n",
       "      <td>4</td>\n",
       "    </tr>\n",
       "    <tr>\n",
       "      <th>2018-01-09 14:00:00+09:00</th>\n",
       "      <td>1</td>\n",
       "      <td>6</td>\n",
       "      <td>0</td>\n",
       "    </tr>\n",
       "    <tr>\n",
       "      <th>2018-01-10 14:00:00+09:00</th>\n",
       "      <td>4</td>\n",
       "      <td>0</td>\n",
       "      <td>7</td>\n",
       "    </tr>\n",
       "  </tbody>\n",
       "</table>\n",
       "</div>"
      ],
      "text/plain": [
       "                           a  b  c\n",
       "2018-01-01 14:00:00+09:00  6  6  6\n",
       "2018-01-02 14:00:00+09:00  2  9  8\n",
       "2018-01-03 14:00:00+09:00  7  0  6\n",
       "2018-01-04 14:00:00+09:00  7  5  2\n",
       "2018-01-05 14:00:00+09:00  3  1  0\n",
       "2018-01-06 14:00:00+09:00  2  5  5\n",
       "2018-01-07 14:00:00+09:00  3  3  8\n",
       "2018-01-08 14:00:00+09:00  2  2  4\n",
       "2018-01-09 14:00:00+09:00  1  6  0\n",
       "2018-01-10 14:00:00+09:00  4  0  7"
      ]
     },
     "execution_count": 25,
     "metadata": {},
     "output_type": "execute_result"
    }
   ],
   "source": [
    "ts = pd.DataFrame(np.random.randint(10,size=[10,3]), index=d, columns=list('abc'))\n",
    "ts_us = ts.tz_localize('US/Eastern')\n",
    "ts_seoul = ts_us.tz_convert('Asia/Seoul')\n",
    "ts_seoul"
   ]
  },
  {
   "cell_type": "code",
   "execution_count": 31,
   "metadata": {},
   "outputs": [
    {
     "name": "stdout",
     "output_type": "stream",
     "text": [
      "2018-01-01 00:00:00+09:00 1514732400000000000\n",
      "2018-01-01 00:00:00+00:00 1514764800000000000\n"
     ]
    }
   ],
   "source": [
    "stamp = pd.Timestamp('2018-1-1', tz='Asia/Seoul')\n",
    "print(stamp, stamp.value)\n",
    "\n",
    "stamp = pd.Timestamp('2018-1-1', tz='UTC')\n",
    "print(stamp, stamp.value)"
   ]
  },
  {
   "cell_type": "markdown",
   "metadata": {},
   "source": [
    "## UTC time\n",
    "- nano seconds (10^9)\n",
    "- since the UNIX epoch (January 1, 1970)"
   ]
  },
  {
   "cell_type": "code",
   "execution_count": 37,
   "metadata": {},
   "outputs": [
    {
     "data": {
      "text/plain": [
       "DatetimeIndex([          '2017-12-31 15:00:00',\n",
       "                         '2018-01-01 00:00:00',\n",
       "                         '1970-01-01 00:00:00',\n",
       "               '1970-01-01 00:00:00.000000001'],\n",
       "              dtype='datetime64[ns]', freq=None)"
      ]
     },
     "metadata": {},
     "output_type": "display_data"
    },
    {
     "data": {
      "text/plain": [
       "Timestamp('2017-12-31 15:00:00')"
      ]
     },
     "metadata": {},
     "output_type": "display_data"
    },
    {
     "data": {
      "text/plain": [
       "Timestamp('2018-01-01 00:00:00')"
      ]
     },
     "metadata": {},
     "output_type": "display_data"
    }
   ],
   "source": [
    "d = pd.to_datetime([1514732400000000000, 1514764800000000000,0,1])\n",
    "display(d,d[0],d[1])"
   ]
  },
  {
   "cell_type": "code",
   "execution_count": 1,
   "metadata": {},
   "outputs": [
    {
     "data": {
      "text/plain": [
       "1542358012.148977"
      ]
     },
     "execution_count": 1,
     "metadata": {},
     "output_type": "execute_result"
    }
   ],
   "source": [
    "import time\n",
    "\n",
    "time.time() # seconds since the Epoch"
   ]
  },
  {
   "cell_type": "code",
   "execution_count": 2,
   "metadata": {},
   "outputs": [
    {
     "data": {
      "text/plain": [
       "time.struct_time(tm_year=2018, tm_mon=11, tm_mday=16, tm_hour=8, tm_min=46, tm_sec=54, tm_wday=4, tm_yday=320, tm_isdst=0)"
      ]
     },
     "metadata": {},
     "output_type": "display_data"
    },
    {
     "data": {
      "text/plain": [
       "time.struct_time(tm_year=2018, tm_mon=11, tm_mday=16, tm_hour=17, tm_min=46, tm_sec=54, tm_wday=4, tm_yday=320, tm_isdst=0)"
      ]
     },
     "metadata": {},
     "output_type": "display_data"
    }
   ],
   "source": [
    "display(time.gmtime(), time.localtime())"
   ]
  }
 ],
 "metadata": {
  "kernelspec": {
   "display_name": "Python 3",
   "language": "python",
   "name": "python3"
  },
  "language_info": {
   "codemirror_mode": {
    "name": "ipython",
    "version": 3
   },
   "file_extension": ".py",
   "mimetype": "text/x-python",
   "name": "python",
   "nbconvert_exporter": "python",
   "pygments_lexer": "ipython3",
   "version": "3.6.5"
  }
 },
 "nbformat": 4,
 "nbformat_minor": 1
}
