{
 "cells": [
  {
   "cell_type": "markdown",
   "metadata": {},
   "source": [
    "# 시험 1 답안\n",
    "---\n",
    "## Numpy, Matplotlib"
   ]
  },
  {
   "cell_type": "code",
   "execution_count": 2,
   "metadata": {
    "scrolled": true
   },
   "outputs": [
    {
     "name": "stdout",
     "output_type": "stream",
     "text": [
      "Populating the interactive namespace from numpy and matplotlib\n"
     ]
    }
   ],
   "source": [
    "%pylab inline\n",
    "\n",
    "import numpy as np\n",
    "import matplotlib.pyplot as plt"
   ]
  },
  {
   "cell_type": "markdown",
   "metadata": {},
   "source": [
    "### 문제 1-1\n",
    "- 0~100 까지 **정수** 로 이루어진 10X10 Numpy 어레이를 생성하라"
   ]
  },
  {
   "cell_type": "code",
   "execution_count": 5,
   "metadata": {},
   "outputs": [
    {
     "data": {
      "text/plain": [
       "array([[ 0,  1,  2,  3,  4,  5,  6,  7,  8,  9],\n",
       "       [10, 11, 12, 13, 14, 15, 16, 17, 18, 19],\n",
       "       [20, 21, 22, 23, 24, 25, 26, 27, 28, 29],\n",
       "       [30, 31, 32, 33, 34, 35, 36, 37, 38, 39],\n",
       "       [40, 41, 42, 43, 44, 45, 46, 47, 48, 49],\n",
       "       [50, 51, 52, 53, 54, 55, 56, 57, 58, 59],\n",
       "       [60, 61, 62, 63, 64, 65, 66, 67, 68, 69],\n",
       "       [70, 71, 72, 73, 74, 75, 76, 77, 78, 79],\n",
       "       [80, 81, 82, 83, 84, 85, 86, 87, 88, 89],\n",
       "       [90, 91, 92, 93, 94, 95, 96, 97, 98, 99]])"
      ]
     },
     "execution_count": 5,
     "metadata": {},
     "output_type": "execute_result"
    }
   ],
   "source": [
    "a = np.arange(100, dtype=int).reshape(10,10)\n",
    "a"
   ]
  },
  {
   "cell_type": "markdown",
   "metadata": {},
   "source": [
    "### 문제 1-2\n",
    "- 모든 원소의 값이 99 인 5X5 형태의 어레이를 생성하라."
   ]
  },
  {
   "cell_type": "code",
   "execution_count": 10,
   "metadata": {},
   "outputs": [
    {
     "data": {
      "text/plain": [
       "array([[99., 99., 99., 99., 99.],\n",
       "       [99., 99., 99., 99., 99.],\n",
       "       [99., 99., 99., 99., 99.],\n",
       "       [99., 99., 99., 99., 99.],\n",
       "       [99., 99., 99., 99., 99.]])"
      ]
     },
     "execution_count": 10,
     "metadata": {},
     "output_type": "execute_result"
    }
   ],
   "source": [
    "a = np.zeros([5,5])+99\n",
    "\n",
    "a = np.zeros([5,5])\n",
    "a[:,:] = 99; a  # a[:] = 99"
   ]
  },
  {
   "cell_type": "markdown",
   "metadata": {},
   "source": [
    "### 문제 1-3\n",
    "- 0~9 까지의 1차원 어레이 X 를 만들어라.\n",
    "- X 의 shape 를 (10,1), (1,10) 로 변형하라.\n",
    "- 세가지 어레이의 차이를 설명하라."
   ]
  },
  {
   "cell_type": "code",
   "execution_count": 13,
   "metadata": {},
   "outputs": [
    {
     "data": {
      "text/plain": [
       "array([0, 1, 2, 3, 4, 5, 6, 7, 8, 9])"
      ]
     },
     "metadata": {},
     "output_type": "display_data"
    },
    {
     "data": {
      "text/plain": [
       "array([[0],\n",
       "       [1],\n",
       "       [2],\n",
       "       [3],\n",
       "       [4],\n",
       "       [5],\n",
       "       [6],\n",
       "       [7],\n",
       "       [8],\n",
       "       [9]])"
      ]
     },
     "metadata": {},
     "output_type": "display_data"
    },
    {
     "data": {
      "text/plain": [
       "array([[0, 1, 2, 3, 4, 5, 6, 7, 8, 9]])"
      ]
     },
     "metadata": {},
     "output_type": "display_data"
    },
    {
     "name": "stdout",
     "output_type": "stream",
     "text": [
      "(10,) (10, 1) (1, 10)\n",
      "X2 와 X3 는 2차원 어레이이다. X2 는 원소가 1개인 묶임이 10개, X3는 원소가 10개인 묶음이 1개이다.\n"
     ]
    }
   ],
   "source": [
    "X = np.arange(10)\n",
    "X2 = X.reshape(-1, 1)\n",
    "X3 = X.reshape(1, -1)\n",
    "\n",
    "display(X, X2, X3)\n",
    "print(X.ndim, X2.ndim, X3.ndim)\n",
    "print('X2 와 X3 는 2차원 어레이이다. X2 는 원소가 1개인 묶임이 10개, X3는 원소가 10개인 묶음이 1개이다.')"
   ]
  },
  {
   "cell_type": "markdown",
   "metadata": {},
   "source": [
    "### 문제 1-4\n",
    "- $ y = x^2 $ 그래프를 그려라. (구간은 -3~3 이다.)"
   ]
  },
  {
   "cell_type": "code",
   "execution_count": 22,
   "metadata": {},
   "outputs": [
    {
     "data": {
      "text/plain": [
       "<matplotlib.legend.Legend at 0xa749090>"
      ]
     },
     "execution_count": 22,
     "metadata": {},
     "output_type": "execute_result"
    },
    {
     "data": {
      "image/png": "[encoded data removed]",
      "text/plain": [
       "<matplotlib.figure.Figure at 0xa7125b0>"
      ]
     },
     "metadata": {},
     "output_type": "display_data"
    }
   ],
   "source": [
    "x = np.arange(-3,3,0.1)\n",
    "x2 = np.linspace(-3,3,5)\n",
    "y = x**2\n",
    "\n",
    "plt.plot(x,y)\n",
    "plt.plot(x2,x2**2, ':')\n",
    "\n",
    "plt.legend(['x','x2'], loc='upper center')"
   ]
  },
  {
   "cell_type": "markdown",
   "metadata": {},
   "source": [
    "### 문제 1-5\n",
    "- np.random.randn() 함수로 1000개의 원소로 이루어진 어레이를 만들어라.\n",
    "- 양수와 음수인 원소의 갯수를 구하라."
   ]
  },
  {
   "cell_type": "code",
   "execution_count": 24,
   "metadata": {},
   "outputs": [
    {
     "data": {
      "text/plain": [
       "(524, 476)"
      ]
     },
     "execution_count": 24,
     "metadata": {},
     "output_type": "execute_result"
    }
   ],
   "source": [
    "a = np.random.randn(1000)\n",
    "(a>0).sum(), (a<0).sum()"
   ]
  },
  {
   "cell_type": "markdown",
   "metadata": {},
   "source": [
    "### 문제 1-6\n",
    "- 위의 문제에서, 원소의 갯수를 10, 100, 1000, 10000 개로 바꿔가며 양수인 갯수를 구하라.\n",
    "- 각각에 대해 양수의 비율을 구하고 이를 그래프로 표현하라."
   ]
  },
  {
   "cell_type": "code",
   "execution_count": 42,
   "metadata": {},
   "outputs": [
    {
     "data": {
      "text/plain": [
       "([<matplotlib.axis.XTick at 0xab045f0>,\n",
       "  <matplotlib.axis.XTick at 0xaafa1d0>,\n",
       "  <matplotlib.axis.XTick at 0xaa1f1d0>,\n",
       "  <matplotlib.axis.XTick at 0xab24ff0>],\n",
       " <a list of 4 Text xticklabel objects>)"
      ]
     },
     "execution_count": 42,
     "metadata": {},
     "output_type": "execute_result"
    },
    {
     "name": "stderr",
     "output_type": "stream",
     "text": [
      "C:\\Anaconda3\\lib\\site-packages\\matplotlib\\collections.py:590: FutureWarning: elementwise comparison failed; returning scalar instead, but in the future will perform elementwise comparison\n",
      "  if self._edgecolors == str('face'):\n"
     ]
    },
    {
     "data": {
      "image/png": "[encoded data removed]",
      "text/plain": [
       "<matplotlib.figure.Figure at 0xaaee930>"
      ]
     },
     "metadata": {},
     "output_type": "display_data"
    }
   ],
   "source": [
    "rng = [10,100,1000,10000]\n",
    "result = [(np.random.randn(n)>0).sum()/n for n in rng]\n",
    "plt.plot(result,'ro-')\n",
    "plt.hlines([0.5],0,len(rng)-1,linestyles=':')\n",
    "plt.ylim(0,1)\n",
    "plt.xticks(range(len(rng)),rng)"
   ]
  },
  {
   "cell_type": "markdown",
   "metadata": {},
   "source": [
    "### 문제 1-7\n",
    "- 0~10 사이 정수로 이루어진 5X3 어레이를 만들어라.\n",
    "- 각 행을 랜덤하게 선택하여 행의 갯수를 100개로 늘려라."
   ]
  },
  {
   "cell_type": "code",
   "execution_count": 46,
   "metadata": {},
   "outputs": [
    {
     "data": {
      "text/plain": [
       "(100, 3)"
      ]
     },
     "execution_count": 46,
     "metadata": {},
     "output_type": "execute_result"
    }
   ],
   "source": [
    "a = np.random.randint(10,size=(5,3))\n",
    "\n",
    "X = a[np.random.randint(5,size=100)]\n",
    "# X = a[np.random.choice(range(5),size=100)]\n",
    "X"
   ]
  },
  {
   "cell_type": "markdown",
   "metadata": {},
   "source": [
    "### 문제 1-8\n",
    "- 정규분포를 활용하여 100X4 인 어레이를 만들어라.\n",
    "- 각 행의 평균이 0보다 큰 행들만 뽑아내라.\n",
    "- 원래 어레이에서, 모두 양수로만 이루어진 행들만 뽑아내라."
   ]
  },
  {
   "cell_type": "code",
   "execution_count": 51,
   "metadata": {},
   "outputs": [
    {
     "data": {
      "text/plain": [
       "(53, 4)"
      ]
     },
     "metadata": {},
     "output_type": "display_data"
    },
    {
     "data": {
      "text/plain": [
       "array([[ 1.60206799,  0.34395495, -0.20768225,  0.29923485],\n",
       "       [ 1.00475119,  0.1946725 ,  0.94603939,  0.07710718],\n",
       "       [-0.3050693 , -0.00399468, -0.48371043,  1.44137482],\n",
       "       [ 1.08652454,  1.16679255, -0.56202072, -0.35428492],\n",
       "       [ 0.55073807, -0.34292022, -0.00381341,  1.15623828],\n",
       "       [ 0.57070061,  1.57875997,  1.05898722,  1.20194961],\n",
       "       [ 1.91531367,  1.41544912, -0.93734891, -1.84840741],\n",
       "       [-0.40324708,  1.99097432,  0.04867435,  0.2263987 ],\n",
       "       [-1.40034767,  0.10878456,  0.97771807,  1.25904857],\n",
       "       [ 0.32202356, -1.42067674,  0.99485843,  0.18883504]])"
      ]
     },
     "metadata": {},
     "output_type": "display_data"
    },
    {
     "data": {
      "text/plain": [
       "(7, 4)"
      ]
     },
     "metadata": {},
     "output_type": "display_data"
    },
    {
     "data": {
      "text/plain": [
       "array([[1.00475119, 0.1946725 , 0.94603939, 0.07710718],\n",
       "       [0.57070061, 1.57875997, 1.05898722, 1.20194961],\n",
       "       [0.75571302, 0.06635717, 0.93543333, 0.84051514],\n",
       "       [0.71420697, 0.49679458, 0.26384762, 1.2122014 ],\n",
       "       [0.84850419, 0.73087646, 0.86618493, 1.28164692],\n",
       "       [0.26503636, 1.09733351, 0.36731763, 0.16620778],\n",
       "       [0.94673748, 0.39656556, 0.51207186, 2.00158678]])"
      ]
     },
     "metadata": {},
     "output_type": "display_data"
    }
   ],
   "source": [
    "data = np.random.randn(100,4)\n",
    "X = data[data.mean(axis=1)>0]\n",
    "display(X.shape, X[:10])\n",
    "\n",
    "X2 = data[(data>0).all(axis=1)]\n",
    "display(X2.shape, X2)"
   ]
  },
  {
   "cell_type": "markdown",
   "metadata": {},
   "source": [
    "### 문제 1-9\n",
    "- 10000 보다 작은 솟수를 모두 구하라.\n",
    "- 힌트 : 어레이와 정수의 %(몫) 기능과 any(), all() 함수를 사용할 수 있다.(num % primes_array)"
   ]
  },
  {
   "cell_type": "code",
   "execution_count": 3,
   "metadata": {},
   "outputs": [
    {
     "data": {
      "text/plain": [
       "(1229,)"
      ]
     },
     "metadata": {},
     "output_type": "display_data"
    },
    {
     "data": {
      "text/plain": [
       "array([   2,    3,    5, ..., 9949, 9967, 9973])"
      ]
     },
     "metadata": {},
     "output_type": "display_data"
    }
   ],
   "source": [
    "N = 10000\n",
    "primes = np.array([2])\n",
    "\n",
    "for n in range(3,N,2):\n",
    "    if ((n%primes)!=0).all(): primes = np.r_[primes,n]\n",
    "\n",
    "display(primes.shape, primes)"
   ]
  },
  {
   "cell_type": "markdown",
   "metadata": {},
   "source": [
    "### 문제 1-10\n",
    "- Iris 데이터를 불러와 X, y 값을 구하자.\n",
    "- 앞의 두 칼럼을 사용하여 산점도를 그려라.\n",
    "- 위의 산점도에서 세번째 칼럼을 색상으로, 네번째 칼럼을 점의 크기로 구별하라."
   ]
  },
  {
   "cell_type": "code",
   "execution_count": 4,
   "metadata": {},
   "outputs": [
    {
     "data": {
      "text/plain": [
       "<matplotlib.colorbar.Colorbar at 0x9b41830>"
      ]
     },
     "execution_count": 4,
     "metadata": {},
     "output_type": "execute_result"
    },
    {
     "name": "stderr",
     "output_type": "stream",
     "text": [
      "C:\\Anaconda3\\lib\\site-packages\\matplotlib\\collections.py:590: FutureWarning: elementwise comparison failed; returning scalar instead, but in the future will perform elementwise comparison\n",
      "  if self._edgecolors == str('face'):\n"
     ]
    },
    {
     "data": {
      "image/png": "[encoded data removed]",
      "text/plain": [
       "<matplotlib.figure.Figure at 0x9a7abb0>"
      ]
     },
     "metadata": {},
     "output_type": "display_data"
    }
   ],
   "source": [
    "mapper = {'\"Setosa\"': 0, '\"Versicolor\"': 1, '\"Virginica\"': 2}\n",
    "data = np.loadtxt('iris.csv', delimiter=',', skiprows=1,\n",
    "                 converters={4: lambda s: mapper[s.decode()]})\n",
    "\n",
    "X = data[:,:-1]\n",
    "y = data[:,-1]\n",
    "\n",
    "plt.figure(figsize=[8,12])\n",
    "plt.subplot(2,1,1)\n",
    "plt.scatter(X[:,0],X[:,1], c=y)\n",
    "plt.colorbar()\n",
    "\n",
    "plt.subplot(2,1,2)\n",
    "plt.scatter(X[:,0],X[:,1], c=X[:,2], s=X[:3]*10)\n",
    "plt.colorbar()"
   ]
  }
 ],
 "metadata": {
  "kernelspec": {
   "display_name": "Python 3",
   "language": "python",
   "name": "python3"
  },
  "language_info": {
   "codemirror_mode": {
    "name": "ipython",
    "version": 3
   },
   "file_extension": ".py",
   "mimetype": "text/x-python",
   "name": "python",
   "nbconvert_exporter": "python",
   "pygments_lexer": "ipython3",
   "version": "3.6.5"
  }
 },
 "nbformat": 4,
 "nbformat_minor": 1
}
