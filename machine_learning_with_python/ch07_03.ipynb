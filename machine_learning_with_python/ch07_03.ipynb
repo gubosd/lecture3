{
 "cells": [
  {
   "cell_type": "markdown",
   "metadata": {},
   "source": [
    "### Introduction to Machine Learning with Python\n",
    "## Chapter 7. 텍스트 데이터 다루기\n",
    "---\n",
    "## IMDb 리뷰 - 문서 군집화 (토픽 모델링)"
   ]
  },
  {
   "cell_type": "markdown",
   "metadata": {},
   "source": [
    "- 토픽 모델링 : 비지도 학습으로 문서를 하나 또는 그 이상의 토픽으로 할당하는 작업\n",
    "- LDA (잠재 디리클레 할당, Latent Dirichlet Allocation) : 성분 분해 방법으로 NMF 와 유사"
   ]
  },
  {
   "cell_type": "code",
   "execution_count": 1,
   "metadata": {},
   "outputs": [
    {
     "name": "stdout",
     "output_type": "stream",
     "text": [
      "Populating the interactive namespace from numpy and matplotlib\n"
     ]
    }
   ],
   "source": [
    "%pylab inline\n",
    "\n",
    "import numpy as np\n",
    "import pandas as pd\n",
    "import matplotlib.pyplot as plt"
   ]
  },
  {
   "cell_type": "code",
   "execution_count": 2,
   "metadata": {},
   "outputs": [],
   "source": [
    "[imdb_train, imdb_test] = np.load('imdb.npy')\n",
    "\n",
    "text_train = [s.decode().replace('<br />', '') for s in imdb_train.data]\n",
    "y_train = imdb_train.target"
   ]
  },
  {
   "cell_type": "markdown",
   "metadata": {},
   "source": [
    "- 15% 미만의 문서에서 나타나는 단어 중 가장 많이 출현하는 단어 10,000개를 선정한다"
   ]
  },
  {
   "cell_type": "code",
   "execution_count": 3,
   "metadata": {},
   "outputs": [],
   "source": [
    "from sklearn.feature_extraction.text import CountVectorizer\n",
    "\n",
    "vect = CountVectorizer(max_features=10000, max_df=0.15)"
   ]
  },
  {
   "cell_type": "code",
   "execution_count": 4,
   "metadata": {},
   "outputs": [],
   "source": [
    "X = vect.fit_transform(text_train)"
   ]
  },
  {
   "cell_type": "code",
   "execution_count": 5,
   "metadata": {},
   "outputs": [
    {
     "data": {
      "text/plain": [
       "['00',\n",
       " 'bikini',\n",
       " 'consider',\n",
       " 'elegance',\n",
       " 'gram',\n",
       " 'karloff',\n",
       " 'muscular',\n",
       " 'prone',\n",
       " 'shakespearean',\n",
       " 'thelma']"
      ]
     },
     "execution_count": 5,
     "metadata": {},
     "output_type": "execute_result"
    }
   ],
   "source": [
    "fn = vect.get_feature_names()\n",
    "fn[::1000]"
   ]
  },
  {
   "cell_type": "code",
   "execution_count": 6,
   "metadata": {},
   "outputs": [
    {
     "data": {
      "text/plain": [
       "(25000, 10000)"
      ]
     },
     "execution_count": 6,
     "metadata": {},
     "output_type": "execute_result"
    }
   ],
   "source": [
    "X.shape"
   ]
  },
  {
   "cell_type": "markdown",
   "metadata": {},
   "source": [
    "- LDA 를 이용하여 주된 토픽 10개를 선정하고, X 를 해당 좌표로 변환한다."
   ]
  },
  {
   "cell_type": "code",
   "execution_count": 7,
   "metadata": {},
   "outputs": [],
   "source": [
    "from sklearn.decomposition import LatentDirichletAllocation\n",
    "\n",
    "lda = LatentDirichletAllocation(n_components=10, learning_method='batch', max_iter=25,\n",
    "                               random_state=0)\n",
    "topics = lda.fit_transform(X)"
   ]
  },
  {
   "cell_type": "code",
   "execution_count": 8,
   "metadata": {},
   "outputs": [
    {
     "data": {
      "text/plain": [
       "((10, 10000), (25000, 10))"
      ]
     },
     "execution_count": 8,
     "metadata": {},
     "output_type": "execute_result"
    }
   ],
   "source": [
    "lda.components_.shape, topics.shape"
   ]
  },
  {
   "cell_type": "code",
   "execution_count": 9,
   "metadata": {
    "scrolled": true
   },
   "outputs": [
    {
     "name": "stdout",
     "output_type": "stream",
     "text": [
      "topic: 0\n",
      "['caruso' 'ppv' 'undertaker' 'shaq' 'pumbaa' 'btk' 'timon' 'duryea'\n",
      " 'simba' 'sabretooth']\n",
      "\n",
      "\n",
      "topic: 1\n",
      "['cena' 'deathtrap' 'deathstalker' 'mcbain' 'askey' 'hackenstein'\n",
      " 'darkman' 'harlin' 'segal' 'batwoman']\n",
      "\n",
      "\n",
      "topic: 2\n",
      "['batwoman' 'macarthur' 'caruso' 'antwone' 'bathsheba' 'harilal' 'blaine'\n",
      " 'jaffar' 'ahmad' 'brashear']\n",
      "\n",
      "\n",
      "topic: 3\n",
      "['leia' 'vivah' 'tashan' 'azumi' 'trelkovsky' 'dahl' 'deathstalker'\n",
      " 'kapoor' 'crouse' 'lila']\n",
      "\n",
      "\n",
      "topic: 4\n",
      "['gannon' 'gypo' 'macarthur' 'venezuela' 'winchester' 'azumi' 'chavez'\n",
      " 'zenia' 'creasy' 'khouri']\n",
      "\n",
      "\n",
      "topic: 5\n",
      "['aweigh' 'iturbi' 'gannon' 'gypo' 'fagin' 'ossessione' 'durbin'\n",
      " 'pavarotti' 'blandings' 'newcombe']\n",
      "\n",
      "\n",
      "topic: 6\n",
      "['blandings' 'eustache' 'sarne' 'noam' 'kornbluth' 'tremors' 'ollie'\n",
      " 'palestinian' 'muslims' 'ashraf']\n",
      "\n",
      "\n",
      "topic: 7\n",
      "['ossessione' 'harron' 'kells' 'ae' 'carla' 'harilal' 'trelkovsky'\n",
      " 'visconti' 'jaffar' 'ahmad']\n",
      "\n",
      "\n",
      "topic: 8\n",
      "['pumbaa' 'simba' 'yokai' 'venezuela' 'azumi' 'ramones' 'gram' 'shaggy'\n",
      " 'sematary' 'lordi']\n",
      "\n",
      "\n",
      "topic: 9\n",
      "['gamera' 'yokai' 'gypo' 'lanza' 'callahan' 'hayworth' 'vivah' 'flavia'\n",
      " 'grendel' 'beowulf']\n",
      "\n",
      "\n"
     ]
    }
   ],
   "source": [
    "sorting = np.argsort(lda.components_,axis=1)[::-1]\n",
    "fn = np.array(fn)\n",
    "\n",
    "for i in range(len(lda.components_)):\n",
    "    print('topic: %d' % i)\n",
    "    print(fn[sorting[i]][:10])\n",
    "    print('\\n')"
   ]
  },
  {
   "cell_type": "markdown",
   "metadata": {},
   "source": [
    "- 100개의 토픽을 적용해 보자"
   ]
  },
  {
   "cell_type": "code",
   "execution_count": null,
   "metadata": {},
   "outputs": [],
   "source": [
    "#lda100 = LatentDirichletAllocation(n_components=100, learning_method='batch', max_iter=25,\n",
    "#                               random_state=0)\n",
    "X_topics100 = lda100.fit_transform(X)"
   ]
  },
  {
   "cell_type": "code",
   "execution_count": null,
   "metadata": {},
   "outputs": [],
   "source": [
    "### save results ###\n",
    "np.save('lda100.npy', [X,X_topics100,lda100])"
   ]
  },
  {
   "cell_type": "code",
   "execution_count": null,
   "metadata": {},
   "outputs": [],
   "source": [
    "lda100.components_[0]"
   ]
  },
  {
   "cell_type": "code",
   "execution_count": null,
   "metadata": {
    "scrolled": true
   },
   "outputs": [],
   "source": [
    "sorting = np.argsort(lda100.components_,axis=1)[::-1]\n",
    "#fn = np.array(fn)\n",
    "\n",
    "for i in range(len(lda100.components_)):\n",
    "    print('topic: %d' % i)\n",
    "    print(fn[sorting[i]][:10])\n",
    "    print('\\n')"
   ]
  }
 ],
 "metadata": {
  "kernelspec": {
   "display_name": "Python 3",
   "language": "python",
   "name": "python3"
  },
  "language_info": {
   "codemirror_mode": {
    "name": "ipython",
    "version": 3
   },
   "file_extension": ".py",
   "mimetype": "text/x-python",
   "name": "python",
   "nbconvert_exporter": "python",
   "pygments_lexer": "ipython3",
   "version": "3.7.0"
  }
 },
 "nbformat": 4,
 "nbformat_minor": 1
}
