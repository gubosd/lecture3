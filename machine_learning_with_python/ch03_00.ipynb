{
 "cells": [
  {
   "cell_type": "markdown",
   "metadata": {},
   "source": [
    "### Introduction to Machine Learning with Python\n",
    "## Chapter 3. 비지도 학습과 데이터 전처리\n",
    "---\n",
    "## 목차"
   ]
  },
  {
   "cell_type": "markdown",
   "metadata": {},
   "source": [
    "### <a href=\"ch03_01.ipynb\">ch03_01</a> 스케일 조정\n",
    "### <a href=\"ch03_02.ipynb\">ch03_02</a> 군집 (Clustering)\n",
    "### <a href=\"ch03_03.ipynb\">ch03_03</a> DBSCAN\n",
    "### <a href=\"ch03_04.ipynb\">ch03_04</a> 주성분 분석 (PCA)\n",
    "### <a href=\"ch03_05.ipynb\">ch03_05</a> 얼굴이미지 PCA 적용\n",
    "### <a href=\"ch03_06.ipynb\">ch03_06</a> t-SNE를 이용한 시각화"
   ]
  }
 ],
 "metadata": {
  "kernelspec": {
   "display_name": "Python 3",
   "language": "python",
   "name": "python3"
  },
  "language_info": {
   "codemirror_mode": {
    "name": "ipython",
    "version": 3
   },
   "file_extension": ".py",
   "mimetype": "text/x-python",
   "name": "python",
   "nbconvert_exporter": "python",
   "pygments_lexer": "ipython3",
   "version": "3.7.0"
  }
 },
 "nbformat": 4,
 "nbformat_minor": 1
}
