{
 "cells": [
  {
   "cell_type": "markdown",
   "metadata": {},
   "source": [
    "### 파이썬 기반 빅데이터 분석 실무자 양성과정\n",
    "# 시험 2\n",
    "---\n",
    "## 빅데이터 분석결과 시각화\n",
    "- 2018년 11월 14일\n",
    "- 강사 김현호"
   ]
  },
  {
   "cell_type": "markdown",
   "metadata": {},
   "source": [
    "## ※ 수강생 : OOO\n",
    "---"
   ]
  },
  {
   "cell_type": "markdown",
   "metadata": {},
   "source": [
    "### 문제 2-1\n",
    "- 데이터를 시각화 해야 하는 이유를 인간의 특성에 견주어 간단히 설명하라."
   ]
  },
  {
   "cell_type": "markdown",
   "metadata": {},
   "source": [
    "### 문제 2-2\n",
    "- 파이썬의 시각화 라이브러리는 matplotlib 이다.\n",
    "- matplotlib 홈페이지에서 plot() 함수 도움말 페이지의 URL 을 찾아서 적어라.\n",
    "- plot() 함수의 선 스타일 종류를 기술하라."
   ]
  },
  {
   "cell_type": "markdown",
   "metadata": {},
   "source": [
    "### 문제 2-3\n",
    "- Numpy 의 randn() 함수를 사용하여 100개의 점으로 이루어진 a, b 두 개의 어레이를 구하라.\n",
    "- 위에서 구한 a, b 어레이를 plot() 함수를 사용하여 구분된 두개의 직선으로 시각화하라. (제목, 축이름, 레이블도 표시하라)"
   ]
  },
  {
   "cell_type": "markdown",
   "metadata": {},
   "source": [
    "### 문제 2-4\n",
    "- matplotlib 의 산점도 함수인 scatter() 의 인자들을 설명하라."
   ]
  },
  {
   "cell_type": "markdown",
   "metadata": {},
   "source": [
    "### 문제 2-5\n",
    "- a, b 두개의 2차원 상에서 동심원 형태의 어레이가 있다. a는 중심이 (0,2), 표준편차가 1이고, b는 중심이 (2,0), 표준편차가 2이다. a 와 b 를 구하라.\n",
    "- a 와 b 를 색상을 구분하여 산점도로 시각화하라."
   ]
  },
  {
   "cell_type": "markdown",
   "metadata": {},
   "source": [
    "### 문제 2-6\n",
    "- 한글로 제목과 축이름이 붙은 도표를 하나 만들어라."
   ]
  },
  {
   "cell_type": "markdown",
   "metadata": {},
   "source": [
    "### 문제 2-7\n",
    "- iris.csv 파일에서 데이터를 읽어들여라.\n",
    "- 속성 4개를 각각 plot() 함수를 사용하여 서브플롯 4개로 그려라. 서브플롯은 2X2 형태이다.\n",
    "- 메인 제목을 'Iris Data' 로 붙이고, 또한 각각의 서브플롯 제목을 속성명으로 붙여라."
   ]
  },
  {
   "cell_type": "markdown",
   "metadata": {},
   "source": [
    "### 문제 2-8\n",
    "- iris 데이터의 첫번째 속성인 sepal length 에 대한 히스토그램을 그려라. 구간은 20 으로 지정하라."
   ]
  },
  {
   "cell_type": "markdown",
   "metadata": {},
   "source": [
    "### 문제 2-9\n",
    "- 좋아하는 사진 이미지를 하나 구해서, imshow() 함수를 이용하여 출력하라."
   ]
  },
  {
   "cell_type": "markdown",
   "metadata": {},
   "source": [
    "### 문제 2-10\n",
    "- Iris 데이터를 불러와, 임의의 두 속성에 대한 산점도를 그려라. 도표의 크기는 [12,12] 로 정하라.\n",
    "- 위에서 그린 도표를 이미지 파일로 저장하라."
   ]
  }
 ],
 "metadata": {
  "kernelspec": {
   "display_name": "Python 3",
   "language": "python",
   "name": "python3"
  },
  "language_info": {
   "codemirror_mode": {
    "name": "ipython",
    "version": 3
   },
   "file_extension": ".py",
   "mimetype": "text/x-python",
   "name": "python",
   "nbconvert_exporter": "python",
   "pygments_lexer": "ipython3",
   "version": "3.7.0"
  }
 },
 "nbformat": 4,
 "nbformat_minor": 1
}
