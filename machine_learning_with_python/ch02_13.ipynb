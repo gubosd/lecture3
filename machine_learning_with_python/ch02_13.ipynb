{
 "cells": [
  {
   "cell_type": "markdown",
   "metadata": {},
   "source": [
    "### Introduction to Machine Learning with Python\n",
    "## Chapter 2. 지도학습\n",
    "---\n",
    "## 나이브 베이즈 (Naive Bayes)"
   ]
  },
  {
   "cell_type": "markdown",
   "metadata": {},
   "source": [
    "- 나이브 베이즈는 통계수학에 기반한 머신러닝 알고리즘 입니다. 핵심 이론은 베이즈 방정식입니다.\n",
    "> 집합 A 와 B 의 교집합 $ A \\cap B $ <br><br>\n",
    "> $ A \\cap B = P(A \\vert B) P(B) = P(B \\vert A) P(A) $ <br><br>\n",
    "> $ P(A \\vert B) = { {P(A) P(B \\vert A)} \\over P(B) }$\n",
    "\n",
    "- 나이브 베이즈에서는 각 속성을 독립적이라고 가정한다. 자세한 공식은 아래와 같다. (출처 : http://scikit-learn.org/stable/modules/naive_bayes.html)\n",
    "> <img src=\"ch02_13.jpg\" />\n",
    "\n",
    "- 나이브 베이즈는 언어와 관련된 부분에서 많이 사용된다. 메일에서 스팸/햄 을 구분하는 문제가 대표적인 경우이다.\n",
    "- 또한 속성이 아주 많지만 대부분의 속성이 0/1 과 같은 이산적인 특성을 가질 때, 훈련데이터가 많지 않아도 좋은 성능을 보여준다."
   ]
  },
  {
   "cell_type": "code",
   "execution_count": 1,
   "metadata": {},
   "outputs": [
    {
     "name": "stdout",
     "output_type": "stream",
     "text": [
      "[1 2 3 4 4 5]\n"
     ]
    }
   ],
   "source": [
    "#####\n",
    "# code : http://scikit-learn.org/stable/modules/naive_bayes.html\n",
    "#####\n",
    "\n",
    "import numpy as np\n",
    "from sklearn.naive_bayes import BernoulliNB\n",
    "\n",
    "X = np.random.randint(2, size=(6, 100))\n",
    "y = np.array([1, 2, 3, 4, 4, 5])\n",
    "\n",
    "model = BernoulliNB()\n",
    "model.fit(X, y)\n",
    "\n",
    "pred_y = model.predict(X)\n",
    "print(pred_y)"
   ]
  },
  {
   "cell_type": "markdown",
   "metadata": {},
   "source": [
    "- Classification of text documents using sparse features\n",
    "\n",
    "<img src=\"ch02_14.jpg\" />\n",
    "<p>(출처 : http://scikit-learn.org/stable/auto_examples/text/plot_document_classification_20newsgroups.html)</p>"
   ]
  },
  {
   "cell_type": "code",
   "execution_count": 3,
   "metadata": {},
   "outputs": [
    {
     "data": {
      "text/plain": [
       "0.9366197183098591"
      ]
     },
     "metadata": {},
     "output_type": "display_data"
    },
    {
     "data": {
      "text/plain": [
       "0.951048951048951"
      ]
     },
     "metadata": {},
     "output_type": "display_data"
    }
   ],
   "source": [
    "from sklearn.model_selection import train_test_split\n",
    "from sklearn.datasets import load_breast_cancer\n",
    "from sklearn.naive_bayes import GaussianNB, MultinomialNB\n",
    "\n",
    "cancer = load_breast_cancer()\n",
    "\n",
    "X_train, X_test, y_train, y_test = train_test_split(cancer.data, cancer.target)\n",
    "\n",
    "# model = BernoulliNB()\n",
    "model = GaussianNB()\n",
    "# model = MultinomialNB()\n",
    "model.fit(X_train, y_train)\n",
    "\n",
    "train_score = model.score(X_train, y_train)\n",
    "test_score = model.score(X_test, y_test)\n",
    "display(train_score, test_score)"
   ]
  }
 ],
 "metadata": {
  "kernelspec": {
   "display_name": "Python 3",
   "language": "python",
   "name": "python3"
  },
  "language_info": {
   "codemirror_mode": {
    "name": "ipython",
    "version": 3
   },
   "file_extension": ".py",
   "mimetype": "text/x-python",
   "name": "python",
   "nbconvert_exporter": "python",
   "pygments_lexer": "ipython3",
   "version": "3.7.0"
  }
 },
 "nbformat": 4,
 "nbformat_minor": 1
}
