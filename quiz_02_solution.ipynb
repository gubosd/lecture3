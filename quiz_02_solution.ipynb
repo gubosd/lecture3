{
 "cells": [
  {
   "cell_type": "markdown",
   "metadata": {},
   "source": [
    "# Quiz 2 : Numpy 기초"
   ]
  },
  {
   "cell_type": "markdown",
   "metadata": {},
   "source": [
    "## 퀴즈 2.1\n",
    "- [0, 0.1, 0.2, ... , 9.8, 9.9] 인 어레이를 만들어라. (속성의 갯수는 100개)\n",
    "- reshape 함수를 사용하여 10X10 행렬로 만들어라."
   ]
  },
  {
   "cell_type": "code",
   "execution_count": 1,
   "metadata": {
    "collapsed": false
   },
   "outputs": [
    {
     "name": "stdout",
     "output_type": "stream",
     "text": [
      "Populating the interactive namespace from numpy and matplotlib\n"
     ]
    }
   ],
   "source": [
    "%pylab inline\n",
    "import numpy as np"
   ]
  },
  {
   "cell_type": "code",
   "execution_count": 6,
   "metadata": {
    "collapsed": false
   },
   "outputs": [
    {
     "data": {
      "text/plain": [
       "(100,)"
      ]
     },
     "metadata": {},
     "output_type": "display_data"
    },
    {
     "data": {
      "text/plain": [
       "array([0. , 0.1, 0.2, 0.3, 0.4, 0.5, 0.6, 0.7, 0.8, 0.9, 1. , 1.1, 1.2,\n",
       "       1.3, 1.4, 1.5, 1.6, 1.7, 1.8, 1.9, 2. , 2.1, 2.2, 2.3, 2.4, 2.5,\n",
       "       2.6, 2.7, 2.8, 2.9, 3. , 3.1, 3.2, 3.3, 3.4, 3.5, 3.6, 3.7, 3.8,\n",
       "       3.9, 4. , 4.1, 4.2, 4.3, 4.4, 4.5, 4.6, 4.7, 4.8, 4.9, 5. , 5.1,\n",
       "       5.2, 5.3, 5.4, 5.5, 5.6, 5.7, 5.8, 5.9, 6. , 6.1, 6.2, 6.3, 6.4,\n",
       "       6.5, 6.6, 6.7, 6.8, 6.9, 7. , 7.1, 7.2, 7.3, 7.4, 7.5, 7.6, 7.7,\n",
       "       7.8, 7.9, 8. , 8.1, 8.2, 8.3, 8.4, 8.5, 8.6, 8.7, 8.8, 8.9, 9. ,\n",
       "       9.1, 9.2, 9.3, 9.4, 9.5, 9.6, 9.7, 9.8, 9.9])"
      ]
     },
     "metadata": {},
     "output_type": "display_data"
    }
   ],
   "source": [
    "a = np.arange(0,10,0.1)\n",
    "display(a.shape, a)"
   ]
  },
  {
   "cell_type": "code",
   "execution_count": 7,
   "metadata": {
    "collapsed": false
   },
   "outputs": [
    {
     "data": {
      "text/plain": [
       "array([[0. , 0.1, 0.2, 0.3, 0.4, 0.5, 0.6, 0.7, 0.8, 0.9],\n",
       "       [1. , 1.1, 1.2, 1.3, 1.4, 1.5, 1.6, 1.7, 1.8, 1.9],\n",
       "       [2. , 2.1, 2.2, 2.3, 2.4, 2.5, 2.6, 2.7, 2.8, 2.9],\n",
       "       [3. , 3.1, 3.2, 3.3, 3.4, 3.5, 3.6, 3.7, 3.8, 3.9],\n",
       "       [4. , 4.1, 4.2, 4.3, 4.4, 4.5, 4.6, 4.7, 4.8, 4.9],\n",
       "       [5. , 5.1, 5.2, 5.3, 5.4, 5.5, 5.6, 5.7, 5.8, 5.9],\n",
       "       [6. , 6.1, 6.2, 6.3, 6.4, 6.5, 6.6, 6.7, 6.8, 6.9],\n",
       "       [7. , 7.1, 7.2, 7.3, 7.4, 7.5, 7.6, 7.7, 7.8, 7.9],\n",
       "       [8. , 8.1, 8.2, 8.3, 8.4, 8.5, 8.6, 8.7, 8.8, 8.9],\n",
       "       [9. , 9.1, 9.2, 9.3, 9.4, 9.5, 9.6, 9.7, 9.8, 9.9]])"
      ]
     },
     "execution_count": 7,
     "metadata": {},
     "output_type": "execute_result"
    }
   ],
   "source": [
    "a.reshape(10,-1)"
   ]
  },
  {
   "cell_type": "markdown",
   "metadata": {},
   "source": [
    "## 퀴즈 2.2\n",
    "- A/B/O 혈액형인 사람들의 비율이 1:2:2 인 확률로 100개의 샘플을 만들려고 한다.\n",
    "- A/B/O 각각의 값은 0/1/2 이다. => [1 0 2 2 0 1 1 ... ]\n",
    "- **힌트** : np.random 모듈의 uniform 이나 choice 함수를 사용하자"
   ]
  },
  {
   "cell_type": "code",
   "execution_count": 20,
   "metadata": {
    "collapsed": false
   },
   "outputs": [
    {
     "data": {
      "text/plain": [
       "array([1.01452821, 2.37929416, 0.90997314, 2.91965738, 2.33254364,\n",
       "       0.64745254, 4.36902232, 3.90489505, 0.87697011, 4.28801096,\n",
       "       0.66655064, 2.36349589, 2.62010928, 1.71797819, 1.6236281 ,\n",
       "       1.19446071, 0.85405512, 2.3651458 , 1.71682465, 3.32029576,\n",
       "       3.80994272, 1.12576204, 1.43218408, 0.97117332, 3.79310874,\n",
       "       0.94992893, 4.20943017, 2.25540058, 1.90468127, 3.71020717,\n",
       "       2.57580628, 1.30572066, 4.56333539, 2.69115675, 0.09575933,\n",
       "       4.61519798, 1.49035098, 2.9237145 , 2.77822413, 2.1909424 ,\n",
       "       1.9015659 , 2.60858178, 4.61361328, 2.12858289, 2.67331947,\n",
       "       0.23002246, 3.57185177, 3.92247057, 1.94558583, 2.44151811,\n",
       "       2.92938773, 3.10487743, 3.46236331, 3.08581314, 3.24942752,\n",
       "       1.99957375, 2.96922397, 2.12291933, 4.78015124, 3.84207977,\n",
       "       3.25629331, 1.59883566, 1.79040325, 4.16806012, 3.25969921,\n",
       "       0.95082956, 4.40705642, 3.4433909 , 0.2699247 , 0.04887372,\n",
       "       1.01379263, 2.82827126, 1.89626346, 1.29047916, 2.77900155,\n",
       "       2.56355161, 3.16454634, 1.39179248, 1.1403049 , 3.78180219,\n",
       "       2.56095987, 1.58683449, 2.60513822, 0.03639179, 3.37804842,\n",
       "       1.20330479, 0.67760637, 0.51267822, 1.303566  , 0.14653544,\n",
       "       1.39045174, 2.57373875, 3.19685253, 2.89003385, 0.49723614,\n",
       "       4.51352939, 0.61757378, 0.89736613, 2.35898201, 1.94448962])"
      ]
     },
     "execution_count": 20,
     "metadata": {},
     "output_type": "execute_result"
    }
   ],
   "source": [
    "p = np.random.uniform(0, 5, size=100)\n",
    "p"
   ]
  },
  {
   "cell_type": "code",
   "execution_count": 21,
   "metadata": {
    "collapsed": false
   },
   "outputs": [
    {
     "data": {
      "text/plain": [
       "array([1, 1, 0, 1, 1, 0, 2, 2, 0, 2, 0, 1, 1, 1, 1, 1, 0, 1, 1, 2, 2, 1,\n",
       "       1, 0, 2, 0, 2, 1, 1, 2, 1, 1, 2, 1, 0, 2, 1, 1, 1, 1, 1, 1, 2, 1,\n",
       "       1, 0, 2, 2, 1, 1, 1, 2, 2, 2, 2, 1, 1, 1, 2, 2, 2, 1, 1, 2, 2, 0,\n",
       "       2, 2, 0, 0, 1, 1, 1, 1, 1, 1, 2, 1, 1, 2, 1, 1, 1, 0, 2, 1, 0, 0,\n",
       "       1, 0, 1, 1, 2, 1, 0, 2, 0, 0, 1, 1])"
      ]
     },
     "execution_count": 21,
     "metadata": {},
     "output_type": "execute_result"
    }
   ],
   "source": [
    "label = np.where(p<1, 0, np.where(p<3, 1, 2))\n",
    "label"
   ]
  },
  {
   "cell_type": "code",
   "execution_count": 22,
   "metadata": {
    "collapsed": false
   },
   "outputs": [
    {
     "data": {
      "text/plain": [
       "array([19, 52, 29], dtype=int32)"
      ]
     },
     "execution_count": 22,
     "metadata": {},
     "output_type": "execute_result"
    }
   ],
   "source": [
    "np.bincount(label)"
   ]
  },
  {
   "cell_type": "code",
   "execution_count": 32,
   "metadata": {
    "collapsed": false
   },
   "outputs": [
    {
     "data": {
      "text/plain": [
       "(array([19, 52, 29], dtype=int32), array([0, 1, 3, 5]))"
      ]
     },
     "execution_count": 32,
     "metadata": {},
     "output_type": "execute_result"
    }
   ],
   "source": [
    "np.histogram(p,bins=[0,1,3,5])"
   ]
  },
  {
   "cell_type": "code",
   "execution_count": 30,
   "metadata": {
    "collapsed": false
   },
   "outputs": [
    {
     "data": {
      "text/plain": [
       "array([1, 1, 0, 1, 1, 0, 2, 2, 0, 2, 0, 1, 1, 1, 1, 1, 0, 1, 1, 2, 2, 1,\n",
       "       1, 0, 2, 0, 2, 1, 1, 2, 1, 1, 2, 1, 0, 2, 1, 1, 1, 1, 1, 1, 2, 1,\n",
       "       1, 0, 2, 2, 1, 1, 1, 2, 2, 2, 2, 1, 1, 1, 2, 2, 2, 1, 1, 2, 2, 0,\n",
       "       2, 2, 0, 0, 1, 1, 1, 1, 1, 1, 2, 1, 1, 2, 1, 1, 1, 0, 2, 1, 0, 0,\n",
       "       1, 0, 1, 1, 2, 1, 0, 2, 0, 0, 1, 1], dtype=int32)"
      ]
     },
     "execution_count": 30,
     "metadata": {},
     "output_type": "execute_result"
    }
   ],
   "source": [
    "np.digitize(p,[0,1,3,5]) - 1"
   ]
  },
  {
   "cell_type": "markdown",
   "metadata": {},
   "source": [
    "- choice() 를 사용한 풀이"
   ]
  },
  {
   "cell_type": "code",
   "execution_count": 37,
   "metadata": {
    "collapsed": false
   },
   "outputs": [
    {
     "data": {
      "text/plain": [
       "array([2, 2, 0, 2, 0, 2, 2, 1, 2, 1, 1, 2, 0, 1, 2, 1, 0, 2, 1, 1, 0, 2,\n",
       "       1, 1, 2, 2, 1, 0, 2, 1, 1, 1, 0, 2, 1, 1, 1, 2, 2, 0, 2, 2, 2, 1,\n",
       "       2, 2, 2, 2, 2, 1, 0, 0, 1, 2, 0, 1, 1, 1, 0, 2, 0, 0, 1, 1, 2, 1,\n",
       "       1, 0, 2, 1, 0, 1, 1, 2, 2, 2, 2, 2, 1, 0, 1, 0, 0, 1, 2, 2, 2, 0,\n",
       "       2, 1, 2, 0, 0, 2, 1, 1, 1, 1, 2, 1])"
      ]
     },
     "execution_count": 37,
     "metadata": {},
     "output_type": "execute_result"
    }
   ],
   "source": [
    "p = [0,1,1,2,2]\n",
    "label2 = np.random.choice(p,100)\n",
    "label2"
   ]
  },
  {
   "cell_type": "code",
   "execution_count": 38,
   "metadata": {
    "collapsed": false
   },
   "outputs": [
    {
     "data": {
      "text/plain": [
       "array([22, 38, 40], dtype=int32)"
      ]
     },
     "execution_count": 38,
     "metadata": {},
     "output_type": "execute_result"
    }
   ],
   "source": [
    "np.bincount(label2)"
   ]
  },
  {
   "cell_type": "markdown",
   "metadata": {},
   "source": [
    "## 퀴즈 2.3\n",
    "- randn() 함수로 100개의 샘플을 구한 다음, 평균과 표준편차를 구하라.\n",
    "- 단, np.sum() 함수만을 사용하라. (mean 과 std 함수를 사용하지 않고 직접 기능을 구현한다.)"
   ]
  },
  {
   "cell_type": "code",
   "execution_count": 52,
   "metadata": {
    "collapsed": false
   },
   "outputs": [
    {
     "data": {
      "text/plain": [
       "'평균 = -0.164079'"
      ]
     },
     "metadata": {},
     "output_type": "display_data"
    },
    {
     "data": {
      "text/plain": [
       "'표준편차 = 0.870089'"
      ]
     },
     "metadata": {},
     "output_type": "display_data"
    }
   ],
   "source": [
    "N = 100\n",
    "X = np.random.randn(N)\n",
    "\n",
    "m = X.sum() / N\n",
    "sigma = np.sqrt( np.sum((X-m)**2) / N )\n",
    "\n",
    "display('평균 = %f' % m, '표준편차 = %f' % sigma)"
   ]
  },
  {
   "cell_type": "markdown",
   "metadata": {},
   "source": [
    "## 퀴즈 2.4\n",
    "- 토끼반(0), 여우반(1), 너구리반(2) 3개의 학급에 각각 10명씩 학생들이 있다.\n",
    "- 학생들의 키와 몸무게 데이터를 만들려고 한다. 키는 평균 170, 표준편차 10이고, 몸무게는 평균 60, 표준편차 10이다.\n",
    "- 키와 몸무게로 30X2 인 행렬(X) 를 만들고, 키와 몸무게 각각의 평균과 표준편차를 구하라.\n",
    "- 별도로 학생들이 속한 반을 나타내는 (30,) 형태의 어레이 y 를 만든다. (shuffle 이나 permutaition 을 사용하여 되도록이면 각 반이 섞이게 구해보자)\n",
    "- 각 반의 키와 몸무게 평균과 표준편차를 구해보자."
   ]
  },
  {
   "cell_type": "code",
   "execution_count": 56,
   "metadata": {
    "collapsed": false
   },
   "outputs": [
    {
     "data": {
      "text/plain": [
       "array([[157.77708191,  59.45000417],\n",
       "       [162.40297319,  65.2817984 ],\n",
       "       [183.58648297,  64.53688187],\n",
       "       [179.89685361,  45.66127726],\n",
       "       [179.13008357,  61.37628759]])"
      ]
     },
     "execution_count": 56,
     "metadata": {},
     "output_type": "execute_result"
    }
   ],
   "source": [
    "X = np.zeros([30,2])\n",
    "X[:,0] = np.random.normal(170,10,size=30)\n",
    "X[:,1] = np.random.normal(60,10,size=30)\n",
    "X[:5]"
   ]
  },
  {
   "cell_type": "code",
   "execution_count": 57,
   "metadata": {
    "collapsed": false
   },
   "outputs": [
    {
     "data": {
      "text/plain": [
       "array([169.7447898 ,  58.19679287])"
      ]
     },
     "metadata": {},
     "output_type": "display_data"
    },
    {
     "data": {
      "text/plain": [
       "array([9.46258889, 7.89657878])"
      ]
     },
     "metadata": {},
     "output_type": "display_data"
    }
   ],
   "source": [
    "m = X.mean(axis=0)\n",
    "sigma = X.std(axis=0)\n",
    "\n",
    "display(m, sigma)"
   ]
  },
  {
   "cell_type": "code",
   "execution_count": 59,
   "metadata": {
    "collapsed": false
   },
   "outputs": [
    {
     "data": {
      "text/plain": [
       "array([1, 2, 0, 2, 0, 0, 2, 0, 1, 0, 2, 2, 0, 2, 1, 2, 0, 1, 1, 2, 2, 1,\n",
       "       1, 1, 0, 0, 0, 1, 1, 2])"
      ]
     },
     "execution_count": 59,
     "metadata": {},
     "output_type": "execute_result"
    }
   ],
   "source": [
    "y = np.array([0]*10 + [1]*10 + [2]*10)\n",
    "np.random.shuffle(y)\n",
    "y"
   ]
  },
  {
   "cell_type": "code",
   "execution_count": 67,
   "metadata": {
    "collapsed": false
   },
   "outputs": [
    {
     "name": "stdout",
     "output_type": "stream",
     "text": [
      "토끼반 : 키의 평균은 115.395651, 몸무게의 평균은 56.664274 입니다.\n",
      "여우반 : 키의 평균은 113.002190, 몸무게의 평균은 55.704004 입니다.\n",
      "너구리반 : 키의 평균은 113.514533, 몸무게의 평균은 56.948300 입니다.\n"
     ]
    }
   ],
   "source": [
    "names = {0: '토끼반', 1: '여우반', 2: '너구리반'}\n",
    "\n",
    "X0 = X[y==0]\n",
    "m = X0.mean()\n",
    "sigma = X0.std()\n",
    "print('%s : 키의 평균은 %f, 몸무게의 평균은 %f 입니다.' % (names[0],m,sigma))\n",
    "\n",
    "X1 = X[y==1]\n",
    "m = X1.mean()\n",
    "sigma = X1.std()\n",
    "print('%s : 키의 평균은 %f, 몸무게의 평균은 %f 입니다.' % (names[1],m,sigma))\n",
    "\n",
    "X2 = X[y==2]\n",
    "m = X2.mean()\n",
    "sigma = X2.std()\n",
    "print('%s : 키의 평균은 %f, 몸무게의 평균은 %f 입니다.' % (names[2],m,sigma))"
   ]
  },
  {
   "cell_type": "markdown",
   "metadata": {},
   "source": [
    "## [도전 과제]\n",
    "- 0~1 사이의 랜덤한 실수값을 100개 얻을려고 한다.\n",
    "- 그런데 값이 두배이면 뽑힐 확률도 두배가 되어야 한다. (0.1 보다 0.2 는 2배 더 높은 뽑힐 확률을 갖는다.)\n",
    "- **힌트** : 확률밀도함수가 y=2x 인 경우이다. 그래프로 그리면 0~x 까지의 면적이 0~x 까지 뽑힐 확률이 된다.<br>\n",
    "이 경우 면적은 $p(x) = x^2$ 이 된다."
   ]
  },
  {
   "cell_type": "code",
   "execution_count": 7,
   "metadata": {
    "collapsed": false
   },
   "outputs": [
    {
     "data": {
      "text/plain": [
       "(69, 31)"
      ]
     },
     "execution_count": 7,
     "metadata": {},
     "output_type": "execute_result"
    }
   ],
   "source": [
    "p = np.random.rand(100) # 0~1 사이의 값 100개를 얻는다. (면적도 0~1 사이임)\n",
    "X = np.sqrt(p) # 해당 면적에 대응하는 x 값을 얻는다\n",
    "(X>0.5).sum(), (X<0.5).sum() # True 1, False 0 으로 계산한다."
   ]
  }
 ],
 "metadata": {
  "kernelspec": {
   "display_name": "Python 3",
   "language": "python",
   "name": "python3"
  },
  "language_info": {
   "codemirror_mode": {
    "name": "ipython",
    "version": 3
   },
   "file_extension": ".py",
   "mimetype": "text/x-python",
   "name": "python",
   "nbconvert_exporter": "python",
   "pygments_lexer": "ipython3",
   "version": "3.5.2"
  }
 },
 "nbformat": 4,
 "nbformat_minor": 0
}
