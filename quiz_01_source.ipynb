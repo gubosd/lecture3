{
 "cells": [
  {
   "cell_type": "markdown",
   "metadata": {},
   "source": [
    "# Quiz 1 : Numpy 기초"
   ]
  },
  {
   "cell_type": "markdown",
   "metadata": {},
   "source": [
    "## Quiz 1-1\n",
    "- 모든 원소가 0 인 3X3 행렬을 만들고, 원소의 총 갯수를 구하라. (결과는 9)"
   ]
  },
  {
   "cell_type": "code",
   "execution_count": 9,
   "metadata": {},
   "outputs": [
    {
     "name": "stdout",
     "output_type": "stream",
     "text": [
      "[[0. 0. 0.]\n",
      " [0. 0. 0.]\n",
      " [0. 0. 0.]]\n",
      "(3, 3)\n",
      "9\n",
      "9\n"
     ]
    }
   ],
   "source": [
    "import numpy as np\n",
    "\n",
    "a = np.zeros([3,3])\n",
    "print(a)\n",
    "print(a.shape)\n",
    "\n",
    "N = a.shape[0] * a.shape[1]\n",
    "print(N)\n",
    "\n",
    "print(len(a) * len(a[0]))"
   ]
  },
  {
   "cell_type": "markdown",
   "metadata": {},
   "source": [
    "## Quiz 1-2\n",
    "- 수강생이 7명인 강의실이 있다. 이 중 발표할 사람 1명을 뽑는 기능을 구현하라.\n",
    "- numpy.random 모듈의 rand(), randn, randint() 를 각각 사용하여 구현하라."
   ]
  },
  {
   "cell_type": "code",
   "execution_count": 13,
   "metadata": {},
   "outputs": [
    {
     "data": {
      "text/plain": [
       "2"
      ]
     },
     "execution_count": 13,
     "metadata": {},
     "output_type": "execute_result"
    }
   ],
   "source": [
    "int(np.random.rand()*7) + 1"
   ]
  },
  {
   "cell_type": "code",
   "execution_count": 15,
   "metadata": {},
   "outputs": [
    {
     "name": "stdout",
     "output_type": "stream",
     "text": [
      "[-0.25442541 -0.02088284 -0.59467799 -1.69382614 -0.12030626 -0.22286259\n",
      " -1.31173692]\n",
      "2 -0.020882835017101208\n"
     ]
    }
   ],
   "source": [
    "a = np.random.randn(7)\n",
    "print(a)\n",
    "\n",
    "pos = None\n",
    "max = -np.inf\n",
    "for i in range(7):\n",
    "    if a[i]>max:\n",
    "        pos = i\n",
    "        max = a[i]\n",
    "        \n",
    "print(pos+1, max)"
   ]
  },
  {
   "cell_type": "code",
   "execution_count": 11,
   "metadata": {},
   "outputs": [
    {
     "name": "stdout",
     "output_type": "stream",
     "text": [
      "[-1.29712125  1.700804    0.97666636 -0.18681409  0.74540148 -0.1832675\n",
      " -1.23881842]\n"
     ]
    },
    {
     "data": {
      "text/plain": [
       "1"
      ]
     },
     "execution_count": 11,
     "metadata": {},
     "output_type": "execute_result"
    }
   ],
   "source": [
    "a = np.random.randn(7)\n",
    "print(a)\n",
    "\n",
    "list(a).index(a.max())"
   ]
  },
  {
   "cell_type": "code",
   "execution_count": 17,
   "metadata": {},
   "outputs": [
    {
     "name": "stdout",
     "output_type": "stream",
     "text": [
      "[ 1.27128021 -0.23392898  0.95692793  0.42397762  0.41399632  0.64167426\n",
      "  0.45033197]\n"
     ]
    },
    {
     "data": {
      "text/plain": [
       "1"
      ]
     },
     "execution_count": 17,
     "metadata": {},
     "output_type": "execute_result"
    }
   ],
   "source": [
    "a = np.random.randn(7)\n",
    "print(a)\n",
    "\n",
    "a.argmax() + 1"
   ]
  },
  {
   "cell_type": "code",
   "execution_count": 20,
   "metadata": {},
   "outputs": [
    {
     "data": {
      "text/plain": [
       "7"
      ]
     },
     "execution_count": 20,
     "metadata": {},
     "output_type": "execute_result"
    }
   ],
   "source": [
    "np.random.randint(7) + 1"
   ]
  },
  {
   "cell_type": "markdown",
   "metadata": {},
   "source": [
    "## Quiz 1-3\n",
    "- 각각 학생이 10명인 학급이 2반 있다.\n",
    "- 1반은 컴퓨터 시험 점수가 평균이 80, 표준편차가 20이고, 2반은 평균이 70, 표준편차가 30 이다. (점수는 정수이다.)\n",
    "- 만점이 100점일 때, 20명에 대한 컴퓨터 시험 점수 표를 만들어라.\n",
    "- 20X2 형태의 어레이로 만들자. 첫번째 열은 점수, 두번째 열은 반번호이다. (1반은 0, 2반은 1)"
   ]
  },
  {
   "cell_type": "code",
   "execution_count": 17,
   "metadata": {},
   "outputs": [
    {
     "data": {
      "text/plain": [
       "array([ 72,  96,  48,  79,  97, 100,  71, 100,  62,  62])"
      ]
     },
     "metadata": {},
     "output_type": "display_data"
    },
    {
     "data": {
      "text/plain": [
       "array([[ 72.,   0.],\n",
       "       [ 96.,   0.],\n",
       "       [ 48.,   0.],\n",
       "       [ 79.,   0.],\n",
       "       [ 97.,   0.],\n",
       "       [100.,   0.],\n",
       "       [ 71.,   0.],\n",
       "       [100.,   0.],\n",
       "       [ 62.,   0.],\n",
       "       [ 62.,   0.],\n",
       "       [  0.,   0.],\n",
       "       [  0.,   0.],\n",
       "       [  0.,   0.],\n",
       "       [  0.,   0.],\n",
       "       [  0.,   0.],\n",
       "       [  0.,   0.],\n",
       "       [  0.,   0.],\n",
       "       [  0.,   0.],\n",
       "       [  0.,   0.],\n",
       "       [  0.,   0.]])"
      ]
     },
     "metadata": {},
     "output_type": "display_data"
    }
   ],
   "source": [
    "scores = np.zeros([20,2])\n",
    "\n",
    "a = np.random.normal(80,20,size=10)\n",
    "a[a>100] = 100\n",
    "a = np.array(a,dtype=int)\n",
    "\n",
    "display(a)\n",
    "\n",
    "scores[:10,0] = a\n",
    "display(scores)"
   ]
  },
  {
   "cell_type": "code",
   "execution_count": 18,
   "metadata": {},
   "outputs": [
    {
     "data": {
      "text/plain": [
       "array([ 92,  92,  64,   9,  61,  65, 100,  73,  58,  59])"
      ]
     },
     "metadata": {},
     "output_type": "display_data"
    },
    {
     "data": {
      "text/plain": [
       "array([[ 72.,   0.],\n",
       "       [ 96.,   0.],\n",
       "       [ 48.,   0.],\n",
       "       [ 79.,   0.],\n",
       "       [ 97.,   0.],\n",
       "       [100.,   0.],\n",
       "       [ 71.,   0.],\n",
       "       [100.,   0.],\n",
       "       [ 62.,   0.],\n",
       "       [ 62.,   0.],\n",
       "       [ 92.,   0.],\n",
       "       [ 92.,   0.],\n",
       "       [ 64.,   0.],\n",
       "       [  9.,   0.],\n",
       "       [ 61.,   0.],\n",
       "       [ 65.,   0.],\n",
       "       [100.,   0.],\n",
       "       [ 73.,   0.],\n",
       "       [ 58.,   0.],\n",
       "       [ 59.,   0.]])"
      ]
     },
     "metadata": {},
     "output_type": "display_data"
    }
   ],
   "source": [
    "b = np.random.normal(70,30,size=10)\n",
    "b[b>100] = 100\n",
    "b = np.array(b,dtype=int)\n",
    "\n",
    "display(b)\n",
    "\n",
    "scores[10:,0] = b\n",
    "display(scores)"
   ]
  },
  {
   "cell_type": "code",
   "execution_count": 34,
   "metadata": {},
   "outputs": [
    {
     "data": {
      "text/plain": [
       "array([[ 96.,   0.],\n",
       "       [ 87.,   0.],\n",
       "       [ 69.,   0.],\n",
       "       [ 53.,   0.],\n",
       "       [100.,   0.],\n",
       "       [ 63.,   0.],\n",
       "       [ 67.,   0.],\n",
       "       [ 75.,   0.],\n",
       "       [ 85.,   0.],\n",
       "       [ 95.,   0.],\n",
       "       [100.,   1.],\n",
       "       [ 68.,   1.],\n",
       "       [ 51.,   1.],\n",
       "       [ 92.,   1.],\n",
       "       [ 53.,   1.],\n",
       "       [ 60.,   1.],\n",
       "       [ 56.,   1.],\n",
       "       [ 33.,   1.],\n",
       "       [ 49.,   1.],\n",
       "       [ 43.,   1.]])"
      ]
     },
     "execution_count": 34,
     "metadata": {},
     "output_type": "execute_result"
    }
   ],
   "source": [
    "scores[:,1] = [0]*10 + [1]*10\n",
    "scores"
   ]
  },
  {
   "cell_type": "code",
   "execution_count": 16,
   "metadata": {},
   "outputs": [
    {
     "ename": "ModuleNotFoundError",
     "evalue": "No module named 'mpl_toolkits.basemap'",
     "output_type": "error",
     "traceback": [
      "\u001b[1;31m---------------------------------------------------------------------------\u001b[0m",
      "\u001b[1;31mModuleNotFoundError\u001b[0m                       Traceback (most recent call last)",
      "\u001b[1;32m<ipython-input-16-fbe8065c757c>\u001b[0m in \u001b[0;36m<module>\u001b[1;34m()\u001b[0m\n\u001b[1;32m----> 1\u001b[1;33m \u001b[1;32mimport\u001b[0m \u001b[0mmpl_toolkits\u001b[0m\u001b[1;33m.\u001b[0m\u001b[0mbasemap\u001b[0m\u001b[1;33m\u001b[0m\u001b[0m\n\u001b[0m",
      "\u001b[1;31mModuleNotFoundError\u001b[0m: No module named 'mpl_toolkits.basemap'"
     ]
    }
   ],
   "source": [
    "import mpl_toolkits.basemap"
   ]
  },
  {
   "cell_type": "code",
   "execution_count": 15,
   "metadata": {},
   "outputs": [
    {
     "data": {
      "text/plain": [
       "<module 'mpl_toolkits' (namespace)>"
      ]
     },
     "execution_count": 15,
     "metadata": {},
     "output_type": "execute_result"
    }
   ],
   "source": [
    "mpl_toolkits."
   ]
  }
 ],
 "metadata": {
  "kernelspec": {
   "display_name": "Python 3",
   "language": "python",
   "name": "python3"
  },
  "language_info": {
   "codemirror_mode": {
    "name": "ipython",
    "version": 3
   },
   "file_extension": ".py",
   "mimetype": "text/x-python",
   "name": "python",
   "nbconvert_exporter": "python",
   "pygments_lexer": "ipython3",
   "version": "3.6.5"
  }
 },
 "nbformat": 4,
 "nbformat_minor": 2
}
