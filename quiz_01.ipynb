{
 "cells": [
  {
   "cell_type": "markdown",
   "metadata": {},
   "source": [
    "# Quiz 1 : Numpy 기초"
   ]
  },
  {
   "cell_type": "markdown",
   "metadata": {},
   "source": [
    "## Quiz 1-1\n",
    "- 모든 원소가 0 인 3X3 행렬을 만들고, 원소의 총 갯수를 구하라. (결과는 9)"
   ]
  },
  {
   "cell_type": "markdown",
   "metadata": {},
   "source": [
    "## Quiz 1-2\n",
    "- 수강생이 7명인 강의실이 있다. 이 중 발표할 사람 1명을 뽑는 기능을 구현하라.\n",
    "- numpy.random 모듈의 rand(), randn, randint() 를 각각 사용하여 구현하라."
   ]
  },
  {
   "cell_type": "markdown",
   "metadata": {},
   "source": [
    "## Quiz 1-3\n",
    "- 각각 학생이 10명인 학급이 2반 있다.\n",
    "- 1반은 컴퓨터 시험 점수가 평균이 80, 표준편차가 20이고, 2반은 평균이 70, 표준편차가 30 이다. (점수는 정수이다.)\n",
    "- 만점이 100점일 때, 20명에 대한 컴퓨터 시험 점수 표를 만들어라.\n",
    "- 20X2 형태의 어레이로 만들자. 첫번째 열은 점수, 두번째 열은 반번호이다. (1반은 0, 2반은 1)"
   ]
  }
 ],
 "metadata": {
  "kernelspec": {
   "display_name": "Python 3",
   "language": "python",
   "name": "python3"
  },
  "language_info": {
   "codemirror_mode": {
    "name": "ipython",
    "version": 3
   },
   "file_extension": ".py",
   "mimetype": "text/x-python",
   "name": "python",
   "nbconvert_exporter": "python",
   "pygments_lexer": "ipython3",
   "version": "3.6.5"
  }
 },
 "nbformat": 4,
 "nbformat_minor": 2
}
