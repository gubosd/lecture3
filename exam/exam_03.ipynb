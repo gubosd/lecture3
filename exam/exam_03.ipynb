{
 "cells": [
  {
   "cell_type": "markdown",
   "metadata": {},
   "source": [
    "### 파이썬 기반 빅데이터 분석 실무자 양성과정\n",
    "# 시험 3\n",
    "---\n",
    "## 탐색적 데이터 분석\n",
    "- 2018년 11월 21일\n",
    "- 강사 김현호"
   ]
  },
  {
   "cell_type": "markdown",
   "metadata": {},
   "source": [
    "## ※ 수강생 : OOO\n",
    "---"
   ]
  },
  {
   "cell_type": "markdown",
   "metadata": {},
   "source": [
    "### 문제 3-1\n",
    "- 파이썬의 대표적인 데이터분석 도구는 numpy 와 pandas 이다.\n",
    "- 이 둘의 핵심 차이점을 기술하라."
   ]
  },
  {
   "cell_type": "markdown",
   "metadata": {},
   "source": [
    "### 문제 3-2\n",
    "- numpy 에서 가장 많이 사용하는 자료형 세가지를 적어라."
   ]
  },
  {
   "cell_type": "markdown",
   "metadata": {},
   "source": [
    "### 문제 3-3\n",
    "- iris 데이터를 numpy.loadtxt() 함수를 이용하여 불러오라.\n",
    "- iris 데이터의 속성 4개에 대해 평균을 0, 표준편차를 1로 정규화되도록 변환하라."
   ]
  },
  {
   "cell_type": "markdown",
   "metadata": {},
   "source": [
    "### 문제 3-4\n",
    "- iris 데이터를 품종별로 X0, X1, X2 세개의 어레이로 분리하라. 단, 타겟값이 0, 1, 2 인 조건식을 사용하라."
   ]
  },
  {
   "cell_type": "markdown",
   "metadata": {},
   "source": [
    "### 문제 3-5\n",
    "- iris 데이터를 데이터 부분인 X 와, 목표값 부분인 y 로 분리하라. 단, X 의 shape 는 (150,4) 이고, y 의 shape 는 (150,) 이다.\n",
    "- iris 데이터의 첫번째 속성만 X 로 만들어라. 이때, X 의 shape 는 (150,1) 이 되도록 한다."
   ]
  },
  {
   "cell_type": "markdown",
   "metadata": {},
   "source": [
    "### 문제 3-6\n",
    "- Iris 데이터를 읽어온 어레이를 복사하여 새로운 어레이를 만들어라.\n",
    "- 새로운 어레이에서 홀수 번째 행들을 0 으로 채워라."
   ]
  },
  {
   "cell_type": "markdown",
   "metadata": {},
   "source": [
    "### 문제 3-7\n",
    "- numpy 의 randn() 함수를 사용하여 5X5 형태의 어레이를 만들어라.\n",
    "- 위에서 구한 어레이에서 1보다 큰 수는 1로, -1보다 작은 수는 -1로 변환하라. "
   ]
  },
  {
   "cell_type": "markdown",
   "metadata": {},
   "source": [
    "### 문제 3-8\n",
    "- iris 데이터에서 네번째 속성인 petal width 를 사용하여 전체 데이터를 크기순으로 오름차순으로 정렬하라."
   ]
  },
  {
   "cell_type": "markdown",
   "metadata": {},
   "source": [
    "### 문제 3-9\n",
    "- 교재 2장의 예제인 usa.gov 데이터를 불러오자.\n",
    "- 타임존이 존재하지 않거나 공백인 레코드를 모두 'Empty' 로 표시하여, 타임존의 출현횟수를 크기 순으로 표시하라."
   ]
  },
  {
   "cell_type": "markdown",
   "metadata": {},
   "source": [
    "### 문제 3-10\n",
    "- 교재 9장의 미국선거 데이터에서 'Obama, Barack' 와 'Romney, Mitt' 의 데이터만 뽑아내자.\n",
    "- 두 후보 각각에서 가장 많이 기부한 직업을 10개씩 골라내어 결과를 출력하라.\n",
    "- 위의 결과를 시각화하라."
   ]
  }
 ],
 "metadata": {
  "kernelspec": {
   "display_name": "Python 3",
   "language": "python",
   "name": "python3"
  },
  "language_info": {
   "codemirror_mode": {
    "name": "ipython",
    "version": 3
   },
   "file_extension": ".py",
   "mimetype": "text/x-python",
   "name": "python",
   "nbconvert_exporter": "python",
   "pygments_lexer": "ipython3",
   "version": "3.7.0"
  }
 },
 "nbformat": 4,
 "nbformat_minor": 1
}
