{
 "cells": [
  {
   "cell_type": "markdown",
   "metadata": {},
   "source": [
    "### 파이썬 기반 빅데이터 분석 실무자 양성과정\n",
    "# 시험 5\n",
    "---\n",
    "## 머신러닝 기반 데이터 분석\n",
    "- 2018년 12월\n",
    "- 강사 김현호\n",
    "\n",
    "## ※ 수강생 : OOO\n",
    "---"
   ]
  },
  {
   "cell_type": "markdown",
   "metadata": {},
   "source": [
    "### 문제 5-1\n",
    "- 머신러닝에서 예측에 대한 목표값이 주어진 경우를 (&nbsp;&nbsp;&nbsp;)학습이라고 한다.\n",
    "- 머신러닝에서 예측에 대한 목표값이 주어지지 않은 상태에서 데이터에 대한 특성을 알아내는 경우를 (&nbsp;&nbsp;&nbsp;)학습이라고 한다."
   ]
  },
  {
   "cell_type": "markdown",
   "metadata": {},
   "source": [
    "### 문제 5-2\n",
    "- 지도학습의 한 종류인 회귀(Regression) 은 목표값이 연속적인 (&nbsp;&nbsp;&nbsp;)값인 경우가 일반적이다.\n",
    "- 회귀는 다차원 공간에서 속성들과 목표값 사이의 근사 (&nbsp;&nbsp;&nbsp;)을 찾는 것이라고 할 수 있다."
   ]
  },
  {
   "cell_type": "markdown",
   "metadata": {},
   "source": [
    "### 문제 5-3\n",
    "- 분류(Classification) 문제에서 속성이 2개인 경우, 공간 상에 샘플들을 점으로 표시하고 클래스를 구분하는 직선이나 곡선을 그리게 된다.\n",
    "- 이 때 주로 사용하는 matplotlib 시각화 함수는 무엇인가?"
   ]
  },
  {
   "cell_type": "markdown",
   "metadata": {},
   "source": [
    "### 문제 5-4\n",
    "- 머신러닝의 중요한 이슈중 하나는 **과대적합**(Overfitting) 문제이다. 과대적합에 대해 간단히 설명하라.\n",
    "- 과대적합을 피하기 위해 주어진 데이터를 **학습데이터와 테스트데이터로 분리**한다. 이를 위해 sklearn 에서 사용하는 대표적인 함수는 무엇인가?"
   ]
  },
  {
   "cell_type": "markdown",
   "metadata": {},
   "source": [
    "### 문제 5-5\n",
    "- 회귀의 대표적인 예측모델은 선형회귀(Linear Regression) 이다.\n",
    "- 선형회귀 모델에 fit() 함수를 이용해 데이터를 넣으면, 두가지 중요한 속성값이 생성된다. 이 두 속성을 설명하라."
   ]
  },
  {
   "cell_type": "markdown",
   "metadata": {},
   "source": [
    "### 문제 5-6\n",
    "- 지도학습에서 목표값과 예측값의 오차 정도를 수치화하기 위해 비용함수(cost function)을 사용한다. 이 비용함수를 최소화 하는 것이 목표이다.\n",
    "- 목표값 y 와 예측값 pred_y 의 차이를 제곱해 더하는 가장 많이 사용되는 비용함수 계산 방식은 무엇인가?"
   ]
  },
  {
   "cell_type": "markdown",
   "metadata": {},
   "source": [
    "### 문제 5-7\n",
    "- 로지스틱 회귀는 분류 모델인데도 **회귀** 란 이름을 가졌다. 이러한 이유를 설명하라.\n",
    "- 분류 문제에서 **로지스틱 회귀**(Logistic Regression) 과 **커널 SVM** 은 시각화 결과에서 크게 차이를 보인다. 이 차이점을 설명하라."
   ]
  },
  {
   "cell_type": "markdown",
   "metadata": {},
   "source": [
    "### 문제 5-8\n",
    "- k-NN, 커널 SVM, 결정트리(Decision Tree) 세가지 지도학습 모델 각각에서 학습데이터에 과대적합되는 경우를 설명하라. (각 모델에서 설정하는 인자값에 따라 과대적합 되는 경향을 보이게 된다.)"
   ]
  },
  {
   "cell_type": "markdown",
   "metadata": {},
   "source": [
    "### 문제 5-9\n",
    "- 비지도학습 중에서 가장 대표적인 알고리즘은 k-means 군집화 기술이다.\n",
    "- k-means 알고리즘을 설명하라."
   ]
  },
  {
   "cell_type": "markdown",
   "metadata": {},
   "source": [
    "### 문제 5-10\n",
    "- 주성분 분석(PCA) 는 원본 데이터 속성을 새로운 좌표축으로 변환하여 표시하는 기술이다.\n",
    "- PCA 를 활용하면 원본 데이터와 같은 갯수의 주성분을 뽑아낼 수 있다.\n",
    "- 그런데 PCA 에서 주성분 갯수를 제한하여 사용하는 경우가 많다. 이렇게 하는 이유는 무엇인가?"
   ]
  }
 ],
 "metadata": {
  "kernelspec": {
   "display_name": "Python 3",
   "language": "python",
   "name": "python3"
  },
  "language_info": {
   "codemirror_mode": {
    "name": "ipython",
    "version": 3
   },
   "file_extension": ".py",
   "mimetype": "text/x-python",
   "name": "python",
   "nbconvert_exporter": "python",
   "pygments_lexer": "ipython3",
   "version": "3.7.0"
  }
 },
 "nbformat": 4,
 "nbformat_minor": 2
}
