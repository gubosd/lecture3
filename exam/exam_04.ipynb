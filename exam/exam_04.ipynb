{
 "cells": [
  {
   "cell_type": "markdown",
   "metadata": {},
   "source": [
    "### 파이썬 기반 빅데이터 분석 실무자 양성과정\n",
    "# 시험 4\n",
    "---\n",
    "## 텍스트 데이터 분석\n",
    "- 2018년 11월\n",
    "- 강사 김현호\n",
    "\n",
    "## ※ 수강생 : OOO\n",
    "---"
   ]
  },
  {
   "cell_type": "markdown",
   "metadata": {},
   "source": [
    "### 문제 4-1\n",
    "> ```locs = ['서울', '광주', '부산', '서울', '대구', '인천', '부산']```\n",
    "- 위의 값들을 파이썬 딕셔너리를 이용하여 숫자로 변환하라. (서울: 0, 부산: 1, 등등)"
   ]
  },
  {
   "cell_type": "markdown",
   "metadata": {},
   "source": [
    "### 문제 4-2\n",
    "- 위의 문제에서 locs 를 원핫인코딩으로 변환하라"
   ]
  },
  {
   "cell_type": "markdown",
   "metadata": {},
   "source": [
    "### 문제 4-3\n",
    "- 4.1 문제에서, \"수도권\" 을 0, \"경상도\" 를 1, \"전라도\" 를 2로 변환하라"
   ]
  },
  {
   "cell_type": "markdown",
   "metadata": {},
   "source": [
    "### 문제 4-4\n",
    "- 텍스트 분석에서 전체 데이터셋을 (&nbsp;&nbsp;&nbsp;), 하나의 샘플 텍스트를 (&nbsp;&nbsp;&nbsp;) 라고 한다.\n",
    "- 자연어 처리를 NLP 라고 한다. NLP 는 무엇의 약자인가?"
   ]
  },
  {
   "cell_type": "markdown",
   "metadata": {},
   "source": [
    "### 문제 4-5\n",
    "- 예제에서 사용한 IMDB 영화리뷰 데이터를 읽어오면 bytes 타입이고, 문서 중간에 \"<br />\" 이 들어가 있다.\n",
    "- 이를 파이썬 문자열로 변환하는 방법을 설명하라."
   ]
  },
  {
   "cell_type": "markdown",
   "metadata": {},
   "source": [
    "### 문제 4-6\n",
    "- \"Hello, I'm Tom. Alice! do you have time tomorrow? I have a message for you.\"\n",
    "- 위의 문장을 CountVectorizer 로 변환하고, 그 결과를 기술하라."
   ]
  },
  {
   "cell_type": "markdown",
   "metadata": {},
   "source": [
    "### 문제 4-7\n",
    "- CountVectorizer 클래스의 min_df 와 max_df 옵션에 대해 설명하라."
   ]
  },
  {
   "cell_type": "markdown",
   "metadata": {},
   "source": [
    "### 문제 4-8\n",
    "- 단어빈도-역문서빈도 변환기인 tf-idf 는 각 단어들에 대해 가중치를 부여하는 방법이다.\n",
    "- 가중치가 **높아지는 경우** 에 대해 설명하라."
   ]
  },
  {
   "cell_type": "markdown",
   "metadata": {},
   "source": [
    "### 문제 4-9\n",
    "- 단어집인 BOW 를 뽑아낼 때, 연속된 여러 단어를 고려하는 것을 n-gram 이라고 한다.\n",
    "- 1단어, 2단어, 3단어를 모두 포함한 BOW 를 뽑아낼 때, 옵션을 어떻게 설정하는가?"
   ]
  },
  {
   "cell_type": "markdown",
   "metadata": {},
   "source": [
    "### 문제 4-10\n",
    "- \"즐거운 곳에서는 날 오라 하여도, 내 쉴 곳은 작은 집, 내 집 뿐이리!\"\n",
    "- 위의 문장을 한국어 형태소 분석기인 KoNLPy 를 이용하여 변환하라."
   ]
  }
 ],
 "metadata": {
  "kernelspec": {
   "display_name": "Python 3",
   "language": "python",
   "name": "python3"
  },
  "language_info": {
   "codemirror_mode": {
    "name": "ipython",
    "version": 3
   },
   "file_extension": ".py",
   "mimetype": "text/x-python",
   "name": "python",
   "nbconvert_exporter": "python",
   "pygments_lexer": "ipython3",
   "version": "3.7.0"
  }
 },
 "nbformat": 4,
 "nbformat_minor": 2
}
