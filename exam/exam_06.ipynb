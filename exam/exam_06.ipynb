{
 "cells": [
  {
   "cell_type": "markdown",
   "metadata": {},
   "source": [
    "### 파이썬 기반 빅데이터 분석 실무자 양성과정\n",
    "# 시험 6\n",
    "---\n",
    "## 통계 기반 데이터 분석\n",
    "- 2018년 12월\n",
    "- 강사 김현호\n",
    "\n",
    "## ※ 수강생 : OOO\n",
    "---"
   ]
  },
  {
   "cell_type": "markdown",
   "metadata": {},
   "source": [
    "### 문제 6-1\n",
    "- 아이리스 데이터를 불러와 각 속성의 평균과 표준편차를 구하라."
   ]
  },
  {
   "cell_type": "markdown",
   "metadata": {},
   "source": [
    "### 문제 6-2\n",
    "- 유방암 데이터를 불러와 boxplot 을 그리고 속성들의 특징을 간단히 기술하라."
   ]
  },
  {
   "cell_type": "markdown",
   "metadata": {},
   "source": [
    "### 문제 6-3\n",
    "- 두 속성의 산관관계를 수치로 나타낸 것이 상관계수(Correlation Coefficient) 이다.\n",
    "- 상관계수가 각각 0, 1, -1 인 경우를 설명하라."
   ]
  },
  {
   "cell_type": "markdown",
   "metadata": {},
   "source": [
    "### 문제 6-4\n",
    "- 유방암 데이터의 모든 속성들의 상관계수를 구하고, 이를 30\\*30 매트릭스로 시각화 하라. (sklearn 의 imshow() 함수 사용)"
   ]
  },
  {
   "cell_type": "markdown",
   "metadata": {},
   "source": [
    "### 문제 6-5\n",
    "- 주성분 분석(PCA) 를 이용하면 데이터를 가장 잘 대표하는 새로운 축 방향을 알아낼 수 있다.\n",
    "- 첫번째 주성분은 수치적으로는 데이터의 (ㅇㅇ)이 가장 큰 방향을 찾는 것이다."
   ]
  },
  {
   "cell_type": "markdown",
   "metadata": {},
   "source": [
    "### 문제 6-6\n",
    "- 데이터의 개별 속성들을 이해하기 위한 시각화 방법으로서, 각 속성값들의 구간을 나누어서 각 구간에 속한 샘플들의 갯수를 막대그래프로 표시하는 방법의 이름 또는 matplotlib 의 시각화 함수 이름을 적어라. "
   ]
  },
  {
   "cell_type": "markdown",
   "metadata": {},
   "source": [
    "### 문제 6-7\n",
    "- 로지스틱 회귀(Logistic Regression) 은 목표값을 나타내는 축을 하나 추가해서, 근사함수를 구하는 머신러닝 모델이다.\n",
    "- 로지스틱 회귀에서 사용하는 대표적인 근사함수 이름은 무엇인가?"
   ]
  },
  {
   "cell_type": "markdown",
   "metadata": {},
   "source": [
    "## 문제 6-8\n",
    "- 결정트리(Decision Tree) 를 이용한 대표적인 앙상블(Ensemble) 기법 두가지는 무엇인가?"
   ]
  },
  {
   "cell_type": "markdown",
   "metadata": {},
   "source": [
    "### 문제 6-9\n",
    "- 동전을 100번 던지고 앞면이 나온 횟수를 기록한다.\n",
    "- 이를 1000번 시행하면, 앞면이 나온 횟수를 기록한 1000개의 속성을 가진 리스트를 만들 수 있다.\n",
    "- 위의 리스트를 활용하여, 앞면이 나온 갯수를 표시한 히스토그램을 그려라.\n",
    "- [힌트] np.random.randint(), np.bincount(), plt.hist() 함수를 이용해 보자."
   ]
  },
  {
   "cell_type": "markdown",
   "metadata": {},
   "source": [
    "### 문제 6-10\n",
    "- 아이리스의 모든 속성들 간의 산점도를 pd.plotting.scatter_matrix() 함수를 이용하여 그리고, 이 중 가장 상관관계가 높을 것 같은 두가지 속성이 무엇인지 설명하라."
   ]
  }
 ],
 "metadata": {
  "kernelspec": {
   "display_name": "Python 3",
   "language": "python",
   "name": "python3"
  },
  "language_info": {
   "codemirror_mode": {
    "name": "ipython",
    "version": 3
   },
   "file_extension": ".py",
   "mimetype": "text/x-python",
   "name": "python",
   "nbconvert_exporter": "python",
   "pygments_lexer": "ipython3",
   "version": "3.7.0"
  }
 },
 "nbformat": 4,
 "nbformat_minor": 2
}
