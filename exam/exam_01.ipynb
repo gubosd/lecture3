{
 "cells": [
  {
   "cell_type": "markdown",
   "metadata": {},
   "source": [
    "### 파이썬 기반 빅데이터 분석 실무자 양성과정\n",
    "# 시험 1\n",
    "---\n",
    "## 분석용 데이터 구축\n",
    "- 2018년 11월 2일\n",
    "- 강사 김현호"
   ]
  },
  {
   "cell_type": "markdown",
   "metadata": {},
   "source": [
    "## ※ 수강생 : OOO\n",
    "---"
   ]
  },
  {
   "cell_type": "markdown",
   "metadata": {},
   "source": [
    "### 문제 1-1\n",
    "- 0~100 까지 **정수** 로 이루어진 10X10 Numpy 어레이를 생성하라"
   ]
  },
  {
   "cell_type": "markdown",
   "metadata": {},
   "source": [
    "### 문제 1-2\n",
    "- 모든 원소의 값이 99 인 5X5 형태의 어레이를 생성하라."
   ]
  },
  {
   "cell_type": "markdown",
   "metadata": {},
   "source": [
    "### 문제 1-3\n",
    "- 0~9 까지의 1차원 어레이 X 를 만들어라.\n",
    "- X 의 shape 를 (10,1), (1,10) 로 변형하라.\n",
    "- 세가지 어레이의 차이를 설명하라."
   ]
  },
  {
   "cell_type": "markdown",
   "metadata": {},
   "source": [
    "### 문제 1-4\n",
    "- $ y = x^2 $ 그래프를 그려라. (구간은 -3~3 이다.)"
   ]
  },
  {
   "cell_type": "markdown",
   "metadata": {},
   "source": [
    "### 문제 1-5\n",
    "- np.random.randn() 함수로 1000개의 원소로 이루어진 어레이를 만들어라.\n",
    "- 양수와 음수인 원소의 갯수를 구하라."
   ]
  },
  {
   "cell_type": "markdown",
   "metadata": {},
   "source": [
    "### 문제 1-6\n",
    "- 위의 문제에서, 원소의 갯수를 10, 100, 1000, 10000 개로 바꿔가며 양수인 갯수를 구하라.\n",
    "- 각각에 대해 양수의 비율을 구하고 이를 그래프로 표현하라."
   ]
  },
  {
   "cell_type": "markdown",
   "metadata": {},
   "source": [
    "### 문제 1-7\n",
    "- 0~10 사이 정수로 이루어진 5X3 어레이를 만들어라.\n",
    "- 각 행을 랜덤하게 선택하여 행의 갯수를 100개로 늘려라."
   ]
  },
  {
   "cell_type": "markdown",
   "metadata": {},
   "source": [
    "### 문제 1-8\n",
    "- 정규분포를 활용하여 100X4 인 어레이를 만들어라.\n",
    "- 각 행의 평균이 0보다 큰 행들만 뽑아내라.\n",
    "- 원래 어레이에서, 모두 양수로만 이루어진 행들만 뽑아내라."
   ]
  },
  {
   "cell_type": "markdown",
   "metadata": {},
   "source": [
    "### 문제 1-9\n",
    "- 10000 보다 작은 솟수를 모두 구하라.\n",
    "- 힌트 : 어레이와 정수의 %(몫) 기능과 any(), all() 함수를 사용할 수 있다.(num % primes_array)"
   ]
  },
  {
   "cell_type": "markdown",
   "metadata": {},
   "source": [
    "### 문제 1-10\n",
    "- Iris 데이터를 불러와 X, y 값을 구하자.\n",
    "- 앞의 두 칼럼을 사용하여 산점도를 그려라.\n",
    "- 위의 산점도에서 세번째 칼럼을 색상으로, 네번째 칼럼을 점의 크기로 구별하라."
   ]
  }
 ],
 "metadata": {
  "kernelspec": {
   "display_name": "Python 3",
   "language": "python",
   "name": "python3"
  },
  "language_info": {
   "codemirror_mode": {
    "name": "ipython",
    "version": 3
   },
   "file_extension": ".py",
   "mimetype": "text/x-python",
   "name": "python",
   "nbconvert_exporter": "python",
   "pygments_lexer": "ipython3",
   "version": "3.7.0"
  }
 },
 "nbformat": 4,
 "nbformat_minor": 1
}
