{
 "cells": [
  {
   "cell_type": "markdown",
   "metadata": {},
   "source": [
    "### Introduction to Machine Learning with Python\n",
    "## Chapter 2. 지도학습\n",
    "---\n",
    "## 목차"
   ]
  },
  {
   "cell_type": "markdown",
   "metadata": {},
   "source": [
    "### <a href=\"ch02_01.ipynb\">ch02_01</a> 지도학습 개요\n",
    "### <a href=\"ch02_02.ipynb\">ch02_02</a> 데이터 생성 함수들\n",
    "### <a href=\"ch02_03.ipynb\">ch02_03</a> 선형 회귀\n",
    "### <a href=\"ch02_04.ipynb\">ch02_04</a> k-NN\n",
    "### <a href=\"ch02_05.ipynb\">ch02_05</a> 로지스틱 회귀\n",
    "### <a href=\"ch02_06.ipynb\">ch02_06</a> 선형 SVM\n",
    "### <a href=\"ch02_07.ipynb\">ch02_07</a> 유방암 데이터\n",
    "### <a href=\"ch02_08.ipynb\">ch02_08</a> 커널 SVM\n",
    "### <a href=\"ch02_09.ipynb\">ch02_09</a> 커널 SVM(2)\n",
    "### <a href=\"ch02_10.ipynb\">ch02_10</a> 결정 트리\n",
    "### <a href=\"ch02_11.ipynb\">ch02_11</a> 랜덤 포레스트\n",
    "### <a href=\"ch02_12.ipynb\">ch02_12</a> 그래디언트 부스팅\n",
    "### <a href=\"ch02_13.ipynb\">ch02_13</a> 나이브 베이즈\n",
    "### <a href=\"ch02_14.ipynb\">ch02_14</a> 경사 하강법\n",
    "### <a href=\"ch02_15.ipynb\">ch02_15</a> 릿지와 라쏘 선형회귀"
   ]
  },
  {
   "cell_type": "markdown",
   "metadata": {},
   "source": [
    "---\n",
    "\n",
    "$ \\hat{y_i} = \\sum_{j=0}^{n-1} w_j x_{ij} + b $ <br>\n",
    "$ Loss = {1 \\over 2N} \\sum_{i=0}^{N-1} (y_i - \\hat{y}_i)^2 $ <br>\n",
    "$ {\\partial Loss \\over \\partial w_j} = -{1 \\over N} \\sum_{i=0}^{N-1} (y_i - \\hat{y}_i) x_{ij} $ <br>\n",
    "$ \\Delta w_j = - \\eta {\\partial Loss \\over \\partial w_j}\n",
    "    = {\\eta \\over N} \\sum_{i=0}^{N-1} (y_i - \\hat{y}_i) x_{ij} $"
   ]
  }
 ],
 "metadata": {
  "kernelspec": {
   "display_name": "Python 3",
   "language": "python",
   "name": "python3"
  },
  "language_info": {
   "codemirror_mode": {
    "name": "ipython",
    "version": 3
   },
   "file_extension": ".py",
   "mimetype": "text/x-python",
   "name": "python",
   "nbconvert_exporter": "python",
   "pygments_lexer": "ipython3",
   "version": "3.6.5"
  }
 },
 "nbformat": 4,
 "nbformat_minor": 1
}
